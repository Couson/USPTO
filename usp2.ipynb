{
 "cells": [
  {
   "cell_type": "code",
   "execution_count": 198,
   "metadata": {},
   "outputs": [],
   "source": [
    "import json\n",
    "import pandas as pd\n",
    "import numpy as np\n",
    "\n",
    "# import re\n"
   ]
  },
  {
   "cell_type": "markdown",
   "metadata": {},
   "source": [
    "# peek 2 json objects"
   ]
  },
  {
   "cell_type": "code",
   "execution_count": 203,
   "metadata": {
    "scrolled": true
   },
   "outputs": [
    {
     "name": "stdout",
     "output_type": "stream",
     "text": [
      "{ \"PatentBulkData\" : [ {\"patentCaseMetadata\":{\"applicationNumberText\":{\"value\":\"11968165\",\"electronicText\":\"11968165\"},\"filingDate\":\"2008-01-01\",\"applicationTypeCategory\":\"Utility\",\"partyBag\":{\"applicantBagOrInventorBagOrOwnerBag\":[{\"primaryExaminerOrAssistantExaminerOrAuthorizedOfficer\":[{\"name\":{\"personNameOrOrganizationNameOrEntityName\":[{\"personFullName\":\"FERGUSON SAMRETH, MARISSA LIANA\"}]}}]},{\"inventorOrDeceasedInventor\":[{\"contactOrPublicationContact\":[{\"name\":{\"personNameOrOrganizationNameOrEntityName\":[{\"personStructuredName\":{\"firstName\":\"Feng-Yi\",\"middleName\":\"\",\"lastName\":\"Tai\"}}]},\"cityName\":\"Taipei Hsien\",\"geographicRegionName\":{\"value\":\"\",\"geographicRegionCategory\":\"STATE\"},\"countryCode\":\"TW\"}]},{\"contactOrPublicationContact\":[{\"name\":{\"personNameOrOrganizationNameOrEntityName\":[{\"personStructuredName\":{\"firstName\":\"Jung-Chin\",\"middleName\":\"\",\"lastName\":\"Chang\"}}]},\"cityName\":\"Taipei Hsien\",\"geographicRegionName\":{\"value\":\"\",\"geographicRegionCategory\":\"STATE\"},\"countryCode\":\"TW\"}]}]},{\"partyIdentifierOrContact\":[{\"name\":{\"personNameOrOrganizationNameOrEntityName\":[{\"personStructuredName\":{\"lastName\":\"G. LINK CO., LTD.\"}}]},\"postalAddressBag\":{\"postalAddress\":[{\"postalStructuredAddress\":{\"addressLineText\":[{\"value\":\"3550 BELL ROAD\"}],\"cityName\":\"MINOOKA\",\"geographicRegionName\":[{\"value\":\"IL\"}],\"countryCode\":\"US\",\"postalCode\":\"60447\"}}]}}]}]},\"groupArtUnitNumber\":{\"value\":\"2854\",\"electronicText\":\"2854\"},\"applicationConfirmationNumber\":\"8415\",\"applicantFileReference\":\"444/16-2_CIP\",\"patentClassificationBag\":{\"cpcClassificationBagOrIPCClassificationOrECLAClassificationBag\":[{\"ipOfficeCode\":\"US\",\"mainNationalClassification\":{\"nationalClass\":\"400\",\"nationalSubclass\":\"236200\"}}]},\"businessEntityStatusCategory\":\"SMALL\",\"firstInventorToFileIndicator\":\"false\",\"inventionTitle\":{\"content\":[\"RIBBON MODULE STRUCTURE OF LABEL PRINTER\"]},\"applicationStatusCategory\":\"Abandoned  --  Failure to Respond to an Office Action\",\"applicationStatusDate\":\"2009-09-22\",\"officialFileLocationCategory\":\"ELECTRONIC\",\"patentPublicationIdentification\":{\"publicationNumber\":\"US20080101838A1\",\"publicationDate\":\"2008-05-01\"},\"relatedDocumentData\":{\"parentDocumentDataOrChildDocumentData\":[{\"descriptionText\":\"This application is a Continuation in part of\",\"applicationNumberText\":\"11187142\",\"filingDate\":\"2005-07-22\",\"aiaIndicator\":false,\"parentDocumentStatusCode\":\"Abandoned\",\"patentNumber\":\"\"}]}},\"prosecutionHistoryDataBag\":{\"prosecutionHistoryData\":[{\"eventDate\":\"2009-09-23\",\"eventCode\":\"MABN2\",\"eventDescriptionText\":\"Mail Abandonment for Failure to Respond to Office Action\"},{\"eventDate\":\"2009-09-22\",\"eventCode\":\"ABN2\",\"eventDescriptionText\":\"Aband. for Failure to Respond to O. A.\"},{\"eventDate\":\"2009-04-15\",\"eventCode\":\"MCTAV\",\"eventDescriptionText\":\"Mail Advisory Action (PTOL - 303)\"},{\"eventDate\":\"2009-04-13\",\"eventCode\":\"CTAV\",\"eventDescriptionText\":\"Advisory Action (PTOL-303)\"},{\"eventDate\":\"2009-03-23\",\"eventCode\":\"FWDX\",\"eventDescriptionText\":\"Date Forwarded to Examiner\"},{\"eventDate\":\"2009-03-16\",\"eventCode\":\"A.NE\",\"eventDescriptionText\":\"Response after Final Action\"},{\"eventDate\":\"2009-03-04\",\"eventCode\":\"MCTAV\",\"eventDescriptionText\":\"Mail Advisory Action (PTOL - 303)\"},{\"eventDate\":\"2009-03-02\",\"eventCode\":\"CTAV\",\"eventDescriptionText\":\"Advisory Action (PTOL-303)\"},{\"eventDate\":\"2009-02-17\",\"eventCode\":\"C614\",\"eventDescriptionText\":\"New or Additional Drawing Filed\"},{\"eventDate\":\"2009-02-23\",\"eventCode\":\"FWDX\",\"eventDescriptionText\":\"Date Forwarded to Examiner\"},{\"eventDate\":\"2009-02-17\",\"eventCode\":\"A.NE\",\"eventDescriptionText\":\"Response after Final Action\"},{\"eventDate\":\"2009-01-07\",\"eventCode\":\"MCTFR\",\"eventDescriptionText\":\"Mail Final Rejection (PTOL - 326)\"},{\"eventDate\":\"2009-01-05\",\"eventCode\":\"CTFR\",\"eventDescriptionText\":\"Final Rejection\"},{\"eventDate\":\"2008-10-27\",\"eventCode\":\"C614\",\"eventDescriptionText\":\"New or Additional Drawing Filed\"},{\"eventDate\":\"2008-10-29\",\"eventCode\":\"FWDX\",\"eventDescriptionText\":\"Date Forwarded to Examiner\"},{\"eventDate\":\"2008-10-27\",\"eventCode\":\"A...\",\"eventDescriptionText\":\"Response after Non-Final Action\"},{\"eventDate\":\"2008-10-27\",\"eventCode\":\"XT/G\",\"eventDescriptionText\":\"Request for Extension of Time - Granted\"},{\"eventDate\":\"2008-06-26\",\"eventCode\":\"MCTNF\",\"eventDescriptionText\":\"Mail Non-Final Rejection\"},{\"eventDate\":\"2008-06-23\",\"eventCode\":\"CTNF\",\"eventDescriptionText\":\"Non-Final Rejection\"},{\"eventDate\":\"2008-05-15\",\"eventCode\":\"DOCK\",\"eventDescriptionText\":\"Case Docketed to Examiner in GAU\"},{\"eventDate\":\"2008-05-01\",\"eventCode\":\"PG-ISSUE\",\"eventDescriptionText\":\"PG-Pub Issue Notification\"},{\"eventDate\":\"2008-03-04\",\"eventCode\":\"TSSCOMP\",\"eventDescriptionText\":\"IFW TSS Processing by Tech Center Complete\"},{\"eventDate\":\"2008-02-07\",\"eventCode\":\"OIPE\",\"eventDescriptionText\":\"Application Dispatched from OIPE\"},{\"eventDate\":\"2008-01-24\",\"eventCode\":\"PGPC\",\"eventDescriptionText\":\"Sent to Classification Contractor\"},{\"eventDate\":\"2008-01-25\",\"eventCode\":\"FLRCPT.O\",\"eventDescriptionText\":\"Filing Receipt\"},{\"eventDate\":\"2008-01-25\",\"eventCode\":\"COMP\",\"eventDescriptionText\":\"Application Is Now Complete\"},{\"eventDate\":\"2008-01-13\",\"eventCode\":\"L194\",\"eventDescriptionText\":\"Cleared by OIPE CSR\"},{\"eventDate\":\"2008-01-07\",\"eventCode\":\"SCAN\",\"eventDescriptionText\":\"IFW Scan & PACR Auto Security Review\"},{\"eventDate\":\"2008-01-01\",\"eventCode\":\"IEXX\",\"eventDescriptionText\":\"Initial Exam Team nn\"}]},\"st96Version\":\"V3_1\",\"ipoVersion\":\"US_V8_0\"}\r\n",
      ",{\"patentCaseMetadata\":{\"applicationNumberText\":{\"value\":\"11968167\",\"electronicText\":\"11968167\"},\"filingDate\":\"2008-01-01\",\"applicationTypeCategory\":\"Utility\",\"partyBag\":{\"applicantBagOrInventorBagOrOwnerBag\":[{\"primaryExaminerOrAssistantExaminerOrAuthorizedOfficer\":[{\"name\":{\"personNameOrOrganizationNameOrEntityName\":[{\"personFullName\":\"KOKKINOS, NICHOLAS C\"}]}}]},{\"inventorOrDeceasedInventor\":[{\"contactOrPublicationContact\":[{\"name\":{\"personNameOrOrganizationNameOrEntityName\":[{\"personStructuredName\":{\"firstName\":\"Chih-Cheng\",\"middleName\":\"\",\"lastName\":\"Chen\"}}]},\"cityName\":\"Yung Kang\",\"geographicRegionName\":{\"value\":\"\",\"geographicRegionCategory\":\"STATE\"},\"countryCode\":\"TW\"}]}]},{\"partyIdentifierOrContact\":[{\"name\":{\"personNameOrOrganizationNameOrEntityName\":[{\"personStructuredName\":{\"lastName\":\"G. LINK CO., LTD.\"}}]},\"postalAddressBag\":{\"postalAddress\":[{\"postalStructuredAddress\":{\"addressLineText\":[{\"value\":\"3550 BELL ROAD\"}],\"cityName\":\"MINOOKA\",\"geographicRegionName\":[{\"value\":\"IL\"}],\"countryCode\":\"US\",\"postalCode\":\"60447\"}}]}}]}]},\"groupArtUnitNumber\":{\"value\":\"1787\",\"electronicText\":\"1787\"},\"applicationConfirmationNumber\":\"8418\",\"applicantFileReference\":\"SE0602US\",\"priorityClaimBag\":{\"priorityClaim\":[{\"ipOfficeName\":\"TAIWAN\",\"applicationNumber\":{\"applicationNumberText\":\"096101690\"},\"filingDate\":\"2007-01-17\",\"sequenceNumber\":\"1\"}]},\"patentClassificationBag\":{\"cpcClassificationBagOrIPCClassificationOrECLAClassificationBag\":[{\"ipOfficeCode\":\"US\",\"mainNationalClassification\":{\"nationalClass\":\"428\",\"nationalSubclass\":\"354000\"}}]},\"businessEntityStatusCategory\":\"SMALL\",\"firstInventorToFileIndicator\":\"false\",\"inventionTitle\":{\"content\":[\"INPUT DEVICE FOR A MAN-MACHINE INTERFACE\"]},\"applicationStatusCategory\":\"Abandoned  --  Failure to Respond to an Office Action\",\"applicationStatusDate\":\"2010-11-22\",\"officialFileLocationCategory\":\"ELECTRONIC\",\"patentPublicationIdentification\":{\"publicationNumber\":\"US20080213581A1\",\"publicationDate\":\"2008-09-04\"}},\"prosecutionHistoryDataBag\":{\"prosecutionHistoryData\":[{\"eventDate\":\"2010-11-23\",\"eventCode\":\"MABN2\",\"eventDescriptionText\":\"Mail Abandonment for Failure to Respond to Office Action\"},{\"eventDate\":\"2010-11-19\",\"eventCode\":\"EXIN\",\"eventDescriptionText\":\"Examiner Interview Summary Record (PTOL - 413)\"},{\"eventDate\":\"2010-11-22\",\"eventCode\":\"ABN2\",\"eventDescriptionText\":\"Aband. for Failure to Respond to O. A.\"},{\"eventDate\":\"2010-05-07\",\"eventCode\":\"MCTFR\",\"eventDescriptionText\":\"Mail Final Rejection (PTOL - 326)\"},{\"eventDate\":\"2010-05-06\",\"eventCode\":\"CTFR\",\"eventDescriptionText\":\"Final Rejection\"},{\"eventDate\":\"2010-03-30\",\"eventCode\":\"DOCK\",\"eventDescriptionText\":\"Case Docketed to Examiner in GAU\"},{\"eventDate\":\"2010-01-25\",\"eventCode\":\"C614\",\"eventDescriptionText\":\"New or Additional Drawing Filed\"},{\"eventDate\":\"2010-03-03\",\"eventCode\":\"FWDX\",\"eventDescriptionText\":\"Date Forwarded to Examiner\"},{\"eventDate\":\"2010-01-25\",\"eventCode\":\"A...\",\"eventDescriptionText\":\"Response after Non-Final Action\"},{\"eventDate\":\"2009-10-29\",\"eventCode\":\"MCTNF\",\"eventDescriptionText\":\"Mail Non-Final Rejection\"},{\"eventDate\":\"2009-10-26\",\"eventCode\":\"CTNF\",\"eventDescriptionText\":\"Non-Final Rejection\"},{\"eventDate\":\"2009-02-20\",\"eventCode\":\"DOCK\",\"eventDescriptionText\":\"Case Docketed to Examiner in GAU\"},{\"eventDate\":\"2009-01-02\",\"eventCode\":\"DOCK\",\"eventDescriptionText\":\"Case Docketed to Examiner in GAU\"},{\"eventDate\":\"2009-01-02\",\"eventCode\":\"DOCK\",\"eventDescriptionText\":\"Case Docketed to Examiner in GAU\"},{\"eventDate\":\"2008-11-30\",\"eventCode\":\"TSSCOMP\",\"eventDescriptionText\":\"IFW TSS Processing by Tech Center Complete\"},{\"eventDate\":\"2008-09-04\",\"eventCode\":\"PG-ISSUE\",\"eventDescriptionText\":\"PG-Pub Issue Notification\"},{\"eventDate\":\"2008-06-19\",\"eventCode\":\"OIPE\",\"eventDescriptionText\":\"Application Dispatched from OIPE\"},{\"eventDate\":\"2008-02-19\",\"eventCode\":\"PGPC\",\"eventDescriptionText\":\"Sent to Classification Contractor\"},{\"eventDate\":\"2008-02-19\",\"eventCode\":\"FLRCPT.O\",\"eventDescriptionText\":\"Filing Receipt\"},{\"eventDate\":\"2008-02-19\",\"eventCode\":\"COMP\",\"eventDescriptionText\":\"Application Is Now Complete\"},{\"eventDate\":\"2008-02-08\",\"eventCode\":\"L128\",\"eventDescriptionText\":\"Cleared by L&R (LARS)\"},{\"eventDate\":\"2008-01-13\",\"eventCode\":\"L198\",\"eventDescriptionText\":\"Referred to Level 2 (LARS) by OIPE CSR\"},{\"eventDate\":\"2008-01-07\",\"eventCode\":\"SCAN\",\"eventDescriptionText\":\"IFW Scan & PACR Auto Security Review\"},{\"eventDate\":\"2008-01-01\",\"eventCode\":\"IEXX\",\"eventDescriptionText\":\"Initial Exam Team nn\"}]},\"st96Version\":\"V3_1\",\"ipoVersion\":\"US_V8_0\"}\r\n"
     ]
    }
   ],
   "source": [
    "!head -n 2 2008.json"
   ]
  },
  {
   "cell_type": "code",
   "execution_count": 201,
   "metadata": {
    "scrolled": false
   },
   "outputs": [],
   "source": [
    "# b = db.read_text('2008.json').map(json.loads)\n",
    "# b"
   ]
  },
  {
   "cell_type": "code",
   "execution_count": 176,
   "metadata": {},
   "outputs": [],
   "source": [
    "cols_needed = ['patentCaseMetadata.applicationNumberText.value',\n",
    "               'patentCaseMetadata.applicationNumberText.electronicText',\n",
    "               'patentCaseMetadata.filingDate',\n",
    "               'patentCaseMetadata.applicationTypeCategory',\n",
    "               'patentCaseMetadata.inventionTitle.content',\n",
    "               'patentCaseMetadata.groupArtUnitNumber.value',\n",
    "               'patentCaseMetadata.groupArtUnitNumber.electronicText',\n",
    "               'patentCaseMetadata.applicationConfirmationNumber',\n",
    "               'patentCaseMetadata.firstInventorToFileIndicator',\n",
    "               'patentCaseMetadata.inventionTitle.content',\n",
    "               'patentCaseMetadata.applicationStatusCategory',\n",
    "               'patentCaseMetadata.applicationStatusDate',\n",
    "               'patentCaseMetadata.officialFileLocationCategory',\n",
    "               'patentCaseMetadata.patentClassificationBag.cpcClassificationBagOrIPCClassificationOrECLAClassificationBag',\n",
    "               'patentCaseMetadata.patentGrantIdentification.patentNumber',\n",
    "               'patentCaseMetadata.patentGrantIdentification.grantDate']\n"
   ]
  },
  {
   "cell_type": "code",
   "execution_count": 207,
   "metadata": {},
   "outputs": [],
   "source": [
    "def read_text(fp):\n",
    "    with open(fp, 'r') as file:\n",
    "        for i in file:\n",
    "            yield i\n",
    "\n",
    "def clean_df(df):\n",
    "    out = []\n",
    "    for col in cols_needed:\n",
    "        try:\n",
    "            to_append = df.loc[:, col].values[0]\n",
    "            out.append(to_append)\n",
    "        except:\n",
    "            out.append(np.NaN)\n",
    "    return out\n",
    "\n",
    "def str2json(json_str):\n",
    "    json_file = json.loads(json_str)\n",
    "    \n",
    "    return json_file\n",
    "\n",
    "def json2df(json_file):\n",
    "    norm = pd.json_normalize(json_file)\n",
    "    out = clean_df(norm)\n",
    "#     print(out)\n",
    "    return out\n",
    "\n",
    "\n",
    "def json_parser(json_path, num_iter = 1):\n",
    "    idx = 0\n",
    "    out = []\n",
    "    with open('meta_data.csv', 'a') as meta_data:\n",
    "        for i in read_text(json_path):\n",
    "    #         print(i)\n",
    "            if idx == 0:\n",
    "                idx += 1\n",
    "                continue\n",
    "            elif idx > num_iter:\n",
    "                break\n",
    "            else: \n",
    "                if i[0] == ',':\n",
    "                    json_str = i[1:]\n",
    "                else:\n",
    "                    json_str = i\n",
    "    #             print(json_str)\n",
    "                out = json2df(str2json(json_str))\n",
    "                to_write = str(out)[1:-1]\n",
    "                print(to_write)\n",
    "            meta_data.write(to_write + '\\n')\n",
    "            idx += 1"
   ]
  },
  {
   "cell_type": "markdown",
   "metadata": {},
   "source": [
    "# call this cell given __num__ of iterations to output the cleaned csv\n",
    "- TODO further clean the nested list; get the nested values\n",
    "- TODO: create a header for the csv"
   ]
  },
  {
   "cell_type": "code",
   "execution_count": 208,
   "metadata": {
    "scrolled": true
   },
   "outputs": [
    {
     "name": "stdout",
     "output_type": "stream",
     "text": [
      "'11968167', '11968167', '2008-01-01', 'Utility', ['INPUT DEVICE FOR A MAN-MACHINE INTERFACE'], '1787', '1787', '8418', 'false', ['INPUT DEVICE FOR A MAN-MACHINE INTERFACE'], 'Abandoned  --  Failure to Respond to an Office Action', '2010-11-22', 'ELECTRONIC', [{'ipOfficeCode': 'US', 'mainNationalClassification': {'nationalClass': '428', 'nationalSubclass': '354000'}}], nan, nan\n",
      "'11968171', '11968171', '2008-01-01', 'Utility', ['Male Genitalia Support Device, and Method for Supporting Male Genitalia'], '3772', '3772', '8427', 'false', ['Male Genitalia Support Device, and Method for Supporting Male Genitalia'], 'Abandoned  --  Failure to Respond to an Office Action', '2011-01-31', 'ELECTRONIC', [{'ipOfficeCode': 'US', 'mainNationalClassification': {'nationalClass': '602', 'nationalSubclass': '070000'}}], nan, nan\n",
      "'11968173', '11968173', '2008-01-01', 'Utility', ['PERSONAL MESSAGING DEVICE WITH VISUAL INDICATORS'], '2614', '2614', '8439', 'false', ['PERSONAL MESSAGING DEVICE WITH VISUAL INDICATORS'], 'Abandoned  --  Failure to Respond to an Office Action', '2012-09-07', 'ELECTRONIC', [{'ipOfficeCode': 'US', 'mainNationalClassification': {'nationalClass': '700', 'nationalSubclass': '094000'}}], nan, nan\n",
      "'11968175', '11968175', '2008-01-01', 'Utility', ['CONTROLLED TORQUE MAGNETIC HEAT GENERATION'], '3742', '3742', '8445', 'false', ['CONTROLLED TORQUE MAGNETIC HEAT GENERATION'], 'Abandoned  --  Failure to Pay Issue Fee', '2011-05-04', 'ELECTRONIC', [{'ipOfficeCode': 'US', 'mainNationalClassification': {'nationalClass': '219', 'nationalSubclass': '631000'}}], nan, nan\n",
      "'11968169', '11968169', '2008-01-01', 'Utility', ['COMBINATION THERAPY'], '3767', '3767', '8422', 'false', ['COMBINATION THERAPY'], 'Abandoned  --  Failure to Respond to an Office Action', '2012-02-09', 'ELECTRONIC', [{'ipOfficeCode': 'US', 'mainNationalClassification': {'nationalClass': '604', 'nationalSubclass': '022000'}}], nan, nan\n",
      "'11968180', '11968180', '2008-01-01', 'Utility', ['METHODS FOR FEMALE MAMMALIAN SPERMATOGENESIS AND MALE MAMMALIAN OOGENESIS USING SYNTHETIC NANOBIOLOGY'], '1632', '1632', '8468', 'false', ['METHODS FOR FEMALE MAMMALIAN SPERMATOGENESIS AND MALE MAMMALIAN OOGENESIS USING SYNTHETIC NANOBIOLOGY'], 'Abandoned  --  Failure to Respond to an Office Action', '2010-03-29', 'ELECTRONIC', [{'ipOfficeCode': 'US', 'mainNationalClassification': {'nationalClass': '435', 'nationalSubclass': '455000'}}], nan, nan\n",
      "'11968170', '11968170', '2008-01-01', 'Utility', ['DEVICE, SYSTEM, AND METHOD OF SEMI-DOHERTY OUTPHASING AMPLIFICATION'], '2817', '2817', '8425', 'false', ['DEVICE, SYSTEM, AND METHOD OF SEMI-DOHERTY OUTPHASING AMPLIFICATION'], 'Patented Case', '2009-11-18', 'ELECTRONIC', [{'ipOfficeCode': 'US', 'mainNationalClassification': {'nationalClass': '330', 'nationalSubclass': '12400R'}}], '7629844', '2009-12-08'\n",
      "'11968172', '11968172', '2008-01-01', 'Utility', ['PET UTILITY DEVICE'], '3600', '3600', '8430', 'false', ['PET UTILITY DEVICE'], 'Patent Expired Due to NonPayment of Maintenance Fees Under 37 CFR 1.362', '2013-12-16', 'ELECTRONIC', [{'ipOfficeCode': 'US', 'mainNationalClassification': {'nationalClass': '119', 'nationalSubclass': '497000'}}], '7617797', '2009-11-17'\n",
      "'11968168', '11968168', '2008-01-01', 'Utility', ['DEVICE, SYSTEM, AND METHOD OF MITIGATING INTERFERENCE TO DIGITAL TELEVISION SIGNALS'], '2649', '2649', '8421', 'false', ['DEVICE, SYSTEM, AND METHOD OF MITIGATING INTERFERENCE TO DIGITAL TELEVISION SIGNALS'], 'Patent Expired Due to NonPayment of Maintenance Fees Under 37 CFR 1.362', '2017-02-06', 'ELECTRONIC', [{'ipOfficeCode': 'US', 'mainNationalClassification': {'nationalClass': '455', 'nationalSubclass': '063100'}}], '8351862', '2013-01-08'\n",
      "'11968179', '11968179', '2008-01-01', 'Utility', ['DOLL OF FOOTBALL GAME TABLE'], '3711', '3711', '8466', 'false', ['DOLL OF FOOTBALL GAME TABLE'], 'Abandoned  --  Failure to Respond to an Office Action', '2010-09-24', 'ELECTRONIC', [{'ipOfficeCode': 'US', 'mainNationalClassification': {'nationalClass': '446', 'nationalSubclass': '333000'}}], nan, nan\n"
     ]
    }
   ],
   "source": [
    "json_parser('2008.json', 10)\n"
   ]
  },
  {
   "cell_type": "code",
   "execution_count": null,
   "metadata": {},
   "outputs": [],
   "source": []
  },
  {
   "cell_type": "code",
   "execution_count": null,
   "metadata": {},
   "outputs": [],
   "source": []
  },
  {
   "cell_type": "code",
   "execution_count": null,
   "metadata": {},
   "outputs": [],
   "source": []
  },
  {
   "cell_type": "code",
   "execution_count": null,
   "metadata": {
    "scrolled": false
   },
   "outputs": [],
   "source": []
  },
  {
   "cell_type": "code",
   "execution_count": null,
   "metadata": {},
   "outputs": [],
   "source": []
  },
  {
   "cell_type": "code",
   "execution_count": null,
   "metadata": {},
   "outputs": [],
   "source": []
  },
  {
   "cell_type": "code",
   "execution_count": null,
   "metadata": {},
   "outputs": [],
   "source": []
  },
  {
   "cell_type": "code",
   "execution_count": null,
   "metadata": {},
   "outputs": [],
   "source": []
  },
  {
   "cell_type": "code",
   "execution_count": null,
   "metadata": {},
   "outputs": [],
   "source": []
  },
  {
   "cell_type": "code",
   "execution_count": null,
   "metadata": {},
   "outputs": [],
   "source": []
  },
  {
   "cell_type": "code",
   "execution_count": null,
   "metadata": {},
   "outputs": [],
   "source": []
  }
 ],
 "metadata": {
  "kernelspec": {
   "display_name": "Python 3",
   "language": "python",
   "name": "python3"
  },
  "language_info": {
   "codemirror_mode": {
    "name": "ipython",
    "version": 3
   },
   "file_extension": ".py",
   "mimetype": "text/x-python",
   "name": "python",
   "nbconvert_exporter": "python",
   "pygments_lexer": "ipython3",
   "version": "3.7.0"
  }
 },
 "nbformat": 4,
 "nbformat_minor": 4
}
