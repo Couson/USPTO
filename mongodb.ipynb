{
 "cells": [
  {
   "cell_type": "markdown",
   "metadata": {},
   "source": [
    "# 1. Explore on Data Set"
   ]
  },
  {
   "cell_type": "code",
   "execution_count": 44,
   "metadata": {},
   "outputs": [],
   "source": [
    "import pymongo\n",
    "import pprint\n"
   ]
  },
  {
   "cell_type": "code",
   "execution_count": 45,
   "metadata": {},
   "outputs": [],
   "source": [
    "db = pymongo.MongoClient(host=[\"75.80.50.2:27017\"], \\\n",
    "                         username=\"team\", password=\"team2020\", authSource=\"utility_patents_full\")"
   ]
  },
  {
   "cell_type": "code",
   "execution_count": 46,
   "metadata": {},
   "outputs": [
    {
     "data": {
      "text/plain": [
       "MongoClient(host=['75.80.50.2:27017'], document_class=dict, tz_aware=False, connect=True, authsource='utility_patents_full')"
      ]
     },
     "execution_count": 46,
     "metadata": {},
     "output_type": "execute_result"
    }
   ],
   "source": [
    "db\n"
   ]
  },
  {
   "cell_type": "code",
   "execution_count": 47,
   "metadata": {},
   "outputs": [
    {
     "data": {
      "text/plain": [
       "Database(MongoClient(host=['75.80.50.2:27017'], document_class=dict, tz_aware=False, connect=True, authsource='utility_patents_full'), 'utility_patents_full')"
      ]
     },
     "execution_count": 47,
     "metadata": {},
     "output_type": "execute_result"
    }
   ],
   "source": [
    "db.utility_patents_full"
   ]
  },
  {
   "cell_type": "code",
   "execution_count": 48,
   "metadata": {},
   "outputs": [
    {
     "data": {
      "text/plain": [
       "<pymongo.command_cursor.CommandCursor at 0x1a1300a828>"
      ]
     },
     "execution_count": 48,
     "metadata": {},
     "output_type": "execute_result"
    }
   ],
   "source": [
    "db.utility_patents_full.comprehensive.list_indexes()\n"
   ]
  },
  {
   "cell_type": "code",
   "execution_count": 49,
   "metadata": {},
   "outputs": [
    {
     "name": "stdout",
     "output_type": "stream",
     "text": [
      "SON([('v', 2), ('key', SON([('_id', 1)])), ('name', '_id_'), ('ns', 'utility_patents_full.comprehensive')])\n",
      "SON([('v', 2), ('unique', True), ('key', SON([('applicationNumber', 1)])), ('name', 'applicationNumber'), ('ns', 'utility_patents_full.comprehensive')])\n",
      "SON([('v', 2), ('key', SON([('publications.publicationNumber', 1)])), ('name', 'publicationNumberNonUnique'), ('ns', 'utility_patents_full.comprehensive'), ('background', True)])\n",
      "SON([('v', 2), ('unique', True), ('key', SON([('applicationNumber', 1), ('publications.publicationNumber', 1)])), ('name', 'application_publication'), ('ns', 'utility_patents_full.comprehensive'), ('sparse', False), ('background', True)])\n",
      "SON([('v', 2), ('key', SON([('applicationStatusCategory', -1)])), ('name', 'applicationStatus'), ('ns', 'utility_patents_full.comprehensive'), ('background', True)])\n",
      "SON([('v', 2), ('key', SON([('filingDate', -1)])), ('name', 'filingDate'), ('ns', 'utility_patents_full.comprehensive'), ('background', True)])\n",
      "SON([('v', 2), ('key', SON([('citations.parsedReferenceIdentifier', 1)])), ('name', 'citation_publication'), ('ns', 'utility_patents_full.comprehensive'), ('sparse', False), ('background', True)])\n",
      "SON([('v', 2), ('key', SON([('applicationNumber', 1), ('_fts', 'text'), ('_ftsx', 1)])), ('name', 'applicationHistory'), ('ns', 'utility_patents_full.comprehensive'), ('background', True), ('weights', SON([('prosecutionHistoryData.eventDescriptionText', 1)])), ('default_language', 'english'), ('language_override', 'language'), ('textIndexVersion', 3)])\n"
     ]
    }
   ],
   "source": [
    "for index in db.utility_patents_full.comprehensive.list_indexes():\n",
    "    print(index)"
   ]
  },
  {
   "cell_type": "code",
   "execution_count": 50,
   "metadata": {},
   "outputs": [
    {
     "data": {
      "text/plain": [
       "['utility_patents_full']"
      ]
     },
     "execution_count": 50,
     "metadata": {},
     "output_type": "execute_result"
    }
   ],
   "source": [
    "db.list_database_names()"
   ]
  },
  {
   "cell_type": "code",
   "execution_count": 51,
   "metadata": {},
   "outputs": [],
   "source": [
    "patents = db['utility_patents_full']"
   ]
  },
  {
   "cell_type": "code",
   "execution_count": 52,
   "metadata": {},
   "outputs": [
    {
     "data": {
      "text/plain": [
       "dict_keys(['inventionTitle', 'abstract', 'summaryOfInvention', 'detailedDescription', 'briefDescriptionOfDrawings', 'claims'])"
      ]
     },
     "execution_count": 52,
     "metadata": {},
     "output_type": "execute_result"
    }
   ],
   "source": [
    "comprehensive = patents['comprehensive']\n",
    "comprehensive.find_one()['publications'][0]['fullText'].keys()\n"
   ]
  },
  {
   "cell_type": "code",
   "execution_count": 53,
   "metadata": {
    "scrolled": true
   },
   "outputs": [
    {
     "data": {
      "text/plain": [
       "{'_id': ObjectId('5e736b26aefb9df49c5e5dcf'),\n",
       " 'applicationNumber': '12923265',\n",
       " 'publications': [{'publicationNumber': '20110061141',\n",
       "   'kind': 'A1',\n",
       "   'fullText': {'inventionTitle': 'Protective composite fabric',\n",
       "    'abstract': ['The invention relates to a slash and gash resistant protective composite fabric comprising at least one layer of base fabric, wherein the base fabric is a densely woven, ballistic fabric. At least one layer of rigid fabric, each having a base layer and a hard polymer layer having a special matrix, is bonded onto the base layer, and the rigid fabric is cut into strips of material having a scale-like pattern or shape. Each of the strips of material are connected to the layer of base fabric in overlapping layers whereby the base fabric is covered. The protective composite fabric further includes a resilient elastically deformable material having at least one sensor therein for monitoring of vital signs of a wearer, the resilient elastically deformable material being connected with the at least one layer of a base fabric and the rigid fabric.'],\n",
       "    'summaryOfInvention': [{'text': 'This invention relates generally to a protective composite fabric, and more particularly to an improved slash and gash resistant protective composite fabric, for use with humans and animals, in the manufacture of protective garments which are lightweight, durable and reliable, and which can provide protection of body parts in addition to the chest/torso region, such as arms and legs, and which has a resilient elastically deformable material having at least one sensor therein for monitoring of vital signs of a wearer.'},\n",
       "     {'text': 'DESCRIPTION OF THE PRIOR ART'},\n",
       "     {'text': 'It is well known that various stab resistant articles or garments, such as ballistic vests, have been worn by prison corrections officers and other types of security, military or law enforcement personnel, and have even been developed for working animals such as dogs or horses. Such stab resistant articles are designed to prevent bodily penetration as a result of stabbing or slashing from sharp objects or weapons. Unfortunately, these protective articles were generally rigid shields which were externally worn and were constructed of heavy, bulky and inflexible metal components such as titanium or other extremely hard metal alloys. The metallic composition of these cumbersome external vest shields must be of sufficient thickness, rigidity and strength to stop impacts imparted by an attacker.'},\n",
       "     {'text': 'Disadvantageously, the bulk and rigidity of such metallic vest garments rendered it uncomfortable to wear. Furthermore, it is rather difficult for the wearer of a rigid vest to move and maneuver around quickly and easily, which is important especially if the wearer is being attacked. Accordingly, such known puncture resistant articles often prove to be ineffective predominantly due to the fact that the potential wearer prefers not to wear the bulky torso shield, rather than tolerating its discomfort, as when used for extended periods such items can be hot and heavy.'},\n",
       "     {'text': 'Another, and perhaps a more significant problem with such types of rigid metallic alloy puncture resistant vests, is that they were not concealable. These known cumbersome shield vests were almost exclusively externally worn and even if they were not worn externally, the bulky nature of such articles make it obvious to a would be attacker that the wearer (corrections officer, etc.) is wearing a protective puncture or stab resistant metallic shield vest. Since the worn vest article cannot be concealed the potential attacker is more prone to stab or slash at a vital area away from the vest such as the lower abdomen, groin, neck or head area. Not only is any element of surprise on the part of the wearer removed by the unconcealed nature of such cumbersome rigid vests, it is highly impractical if not impossible for the undercover personnel to wear such bulky items, and even if used these items offer little to no protection of other body parts such as the arms and legs, damage to which can and do cause severe, life threatening wounds. For example, wounds to the femoral artery can and often kill the person, because there is no protective gear for this area.'},\n",
       "     {'text': \"Moreover, protective devices, such as vests, do exist for working animals, such as dogs, but these tend to be heavy. Ballistic vests are currently the only garment available to protect against ballistic and sharp objects, and a ballistic vest can weigh from 15-20 pounds. For a working dog of 80-125 pounds, such a ballistic vest is equivalent to roughly 20% of that animal's body weight and wearing such a heavy item can increase the body temperature of the animal or wearer. In hot climates, for example, working dogs can easily overheat and expire when their body temperature increases 3-5 degrees, a risk which is enhanced if conventional ballistic vests are utilized. In some cases, dogs have refuse to move when wearing this heavy gear. As such it would be beneficial to monitor the vital signs of the wearer, whether it be a working animal, such as a dog, to a person wearing the material. Particularly in the case of a working animal, an ideal protective composite fabric would be one the animal would wear around the chest or neck, as part of a uniform or single unit. The animal would be able to move about freely and without cumbersome cables, and, when the animal is nearing a dangerous level for any of the vitals being monitored, the handler or keeper or central station would be alerted to attend to the animal that is under stress before the animal's health is compromised or expiration occurs.\"},\n",
       "     {'text': 'Thus, there is a need to provide a light weight, flexible protective composite fabric which is durable, and which can provide protection to vulnerable body parts of humans and working animals, and which can be removed quickly and easily. There is a further need for a flexible protective composite fabric which can provide protection of body parts, in addition to the chest/torso region, such as arms and legs, and which has a resilient elastically deformable material in association therewith having at least one sensor therein for monitoring of vital signs of a wearer. Furthermore, it would be beneficial to have a protective composite fabric which can provide a built in “Cooling Pack” that helps lower body temperature for animals and humans. In this regard, the present invention substantially fulfills this need.'},\n",
       "     {'text': 'SUMMARY OF THE INVENTION'},\n",
       "     {'text': 'It is an object and advantage of the present invention to provide an improved slash and gash resistant protective composite fabric which is light weight, durable, and which can provide protection to vulnerable body parts of humans and working animals, and which can be removed quickly and easily.'},\n",
       "     {'text': 'It is another object and advantage of the present invention to provide an improved slash and gash resistant flexible protective composite fabric which can provide protection of body parts in addition to the chest/torso region, such as arms, legs and neck, and which has a resilient elastically deformable material in association therewith having at least one sensor therein for monitoring of vital signs of a wearer.'},\n",
       "     {'text': 'It is another object and advantage of the present invention to provide an improved slash and gash resistant protective composite fabric which can provide a built in “Cooling Pack” that helps lower body temperature for animals and humans.'},\n",
       "     {'text': 'According to one aspect of the present invention, there is provided a protective composite fabric comprising a) at least one layer of base fabric, wherein the base fabric is a densely woven, ballistic fabric; b) a rigid ballistic fabric having a base layer and a hard polymer layer having a special matrix bonded onto the base layer, the rigid fabric being cut into strips of material having a scale-like pattern or shape and being connected to the at least one layer of base fabric in overlapping layers whereby the at least one layer of base fabric is covered; and c) a resilient elastically deformable material having at least one sensor therein for monitoring of vital signs of a wearer, the resilient elastically deformable material being in association with the at least one layer of a base fabric and the rigid ballistic fabric.'},\n",
       "     {'text': 'According to another aspect of the present invention, there is provided a system for providing a protective composite fabric comprising providing at least one layer of base fabric, wherein the base fabric is a densely woven, ballistic fabric; providing a plurality of overlapping layers of rigid ballistic fabric connected to the at least one layer of base fabric, the rigid fabric comprising a base layer and a hard polymer layer having a special matrix, the hard polymer layer being bonded onto the base layer; providing a resilient elastically deformable material having at least one sensor therein for monitoring of vital signs of a wearer, the resilient elastically deformable material being in association with the at least one layer of a base fabric and the rigid fabric; cutting the rigid fabric into strips of material; cutting each of the strips of material into a scale-like pattern or shape; and connecting the strips of material to the at least one layer of base fabric in overlapping layers whereby the at least one layer of base fabric is covered.'},\n",
       "     {'text': 'According to a further aspect of the present invention, there is provided a slash resistant fabric composition comprising at least one inside fabric layer, the at least one fabric layer being constructed and arranged for contact adjacent to the skin or body of a wearer; a first layer and a second layer of aramide fabric; at least one protective composite fabric layer as defined in any one of claims  1  to  5 , the at least one protective composite fabric layer being positioned and secured between the first layer and the second layer of ballistic fabric; and at least one outside fabric layer, the at least one outside fabric layer being constructed and arranged to form an outside surface of the slash resistant fabric composition, and wherein the first layer of ballistic fabric, the at least one protective composite fabric layer and the second layer of ballistic fabric are secured and positioned between the at least one inside fabric layer and the at least one outside fabric layer.'}],\n",
       "    'detailedDescription': [{'text': 'DESCRIPTION OF THE PREFERRED EMBODIMENT'},\n",
       "     {'text': 'In the preferred embodiment, and with reference to  FIG. 1 , the improved slash and gash resistant protective composite fabric of the present invention is designated in its entirety by the reference numeral  1 . The protective composite fabric preferably comprises at least one layer of base fabric  5 , wherein the base fabric is a densely woven, ballistic fabric. Two possible examples of materials that could be utilized are Microflex™, manufactured by Teijin, and Kevlar Correctional™, manufactured by Dupont, though other variations to this are possible also, as would be apparent to one skilled in the art.'},\n",
       "     {'text': 'At least one layer of rigid fabric  3  having a base layer (not shown) and a hard polymer layer (not shown) having a special matrix bonded onto the base layer, is connected onto the base layer, the rigid fabric  3  being cut into strips of material having a scale-like pattern or shape, as shown in  FIG. 1 , and being connected to the at least one layer of base fabric  5  in overlapping layers whereby the at least one layer of base fabric  5  is substantially covered. Possible examples of suitable materials that could be utilized are SRM™, manufactured by Teijin, and Argus™, manufactured by Dupont, though other variations to this are possible also, as would be apparent to one skilled in the art. It will also be understood that the rigid fabric layer can also comprise a plurality of rigid fabric layers.'},\n",
       "     {'text': 'In essence, the base fabric  5  is a densely woven, ballistic fabric which has a soft, supple hand, it being understood that “hand” is a textile term for the feel of a fabric, yet which is dimensionally stable and possessing modest stretch when cut on the bias. The rigid fabric  3  is connected to the base fabric  5 , preferably by sewing, the rigid fabric  5  being of a type that is effective for protection against sharp objects and weapons.'},\n",
       "     {'text': 'The rigid fabric  3  is, as noted previously, preferably comprised of two layers; a base layer on to which has been bonded particles of a hard polymer using a special matrix which produces a rigid outer skin. When worn conventionally, it is known that fabrics of this type are effective for protection against sharp edges, but such conventional configurations have also been known to be rigid, uncomfortable, do not bend with the body and can be worn only on large, flat surfaces on the body such as the chest and back. It also does not conform to body contours, which can cause binding, chafing, and generally being uncomfortable to wear other than as a traditional ballistic vest. Both fabrics are light weight, extremely strong, durable but do not easily breath and can cause over-heating of the wearer when worn for extended periods. However, in the present invention, as noted previously, the at least one layer of rigid fabric  3  is cut into strips of material having a scale-like pattern or shape, as shown in  FIG. 1 , and are then connected to the at least one layer of base fabric  5  in overlapping layers whereby the base fabric  5  is substantially covered. It will, of course, be understood that the strips of material of the rigid fabric  3  could also be cut into various other patterns or shapes that are then overlapped, the overlapping of the material being varied upon depending upon the desired density and protection sought. In this manner, garments utilizing the improved protective composite fabric of the present invention, such as vests or other types of protective articles, are assembled in a unique way that allows for greater flexibility of the fabric and greater maneuverability of the person or animal wearing the garment.'},\n",
       "     {'text': 'Furthermore, utilizing both fabrics (base fabric  5  that is a densely woven, ballistic fabric having a soft, supple hand in combination with rigid fabric  3 ) as a single fabric, allows for the incorporation of the best properties of each to create a new, composite fabric with additional new features not otherwise available. In the present invention, the soft, base fabric  5 , which can be of a conventional type, is essentially unchanged. The rigid top layer fabric  3 , however, is drastically altered in the present invention so as to make it pliable and follow the contours of small body parts in both animal and humans.'},\n",
       "     {'text': 'The method used to manufacture the improved protective composite fabric of the present invention is as follows:\\n (A) cutting the rigid fabric  3  into narrow strips; (B) cutting each strip of the rigid fabric into a scale-like (or other) pattern; (C) one side of the pre-cut strips of the rigid fabric is sewn to the base fabric  5  in overlapping layers, similar to the application of shingles to a roof This creates a new protective composite fabric that incorporates both the soft fabric as a base and rigid fabric  3  as overlapping scales that completely covers the base fabric  5 . \\n'},\n",
       "     {'text': 'It should be noted that the scale-like patterns of rigid fabric material can be cut into different widths and lengths to form protective articles which can be manufactured utilizing the improved protective composite fabric of the present invention, depending on the body parts to be protected. For example, it will be understood that the thigh and leg regions of a wearer require a larger scale or pattern size on a formed protective article than that of garments covering the arm and neck. This new composite fabric is a flexible, non-binding, slash and gash resistant fabric which can be used, for example, in law enforcement, military and related applications that require protection against sharp edge weapons, chain and barb wire, brush, burr and cactus and punctures sustained during movement in transit (for horses), shrapnel, and other related hazards.'},\n",
       "     {'text': 'One further embodiment of the present invention includes, because over-heating is a major concern for animals and humans wearing ballistic gear formed from protective articles or garments (which can be manufactured utilizing the improved protective composite fabric of the present invention), a built in “Cool Pack” (not shown) that helps lower body temperature for the wearer, the “Cool Pack” being positioned within at least one pocket formed on an inner surface of the protective article or garment. Preferably, these “Cool Packs” are rechargeable, lightweight and fit into specially designed pockets on the inside of the garment, next to the body. Other variations to this are possible also, as would be apparent to one skilled in the art. In a preferred embodiment, the “cooling pack” is a re-hydrating cooling gel that can be chilled, or frozen, as needed prior to placement into the pockets on the inside of the garment. In a further embodiment, the garment further comprises a plurality of pockets formed on the inner surface thereof, each operably able to receive the “Cool Packs” therein.'},\n",
       "     {'text': \"In a still further embodiment, the improved slash and gash resistant protective composite fabric of the present invention can be manufactured and constructed to comprise a kennel, which can possess the above-noted pockets on the inside of the garment whereby the “Cool Packs” can be positioned therein to cool the dog while resting in the kennel, or used on the ground for the dog to stand on it, used to cool the dog's paws. This embodiment can be constructed having 3 layers of fabric as follows: 1) a base fabric, such as nylon, that is placed next to the kennel floor or the ground; 2) a layer of insulation to prevent the heat from the kennel floor or ground from migrating to the cool pack layer; and 3) an upper layer with cool pack pockets to hold the hydrated cool pack inserts. Such and embodiment can be rolled and secured with hook/loop (Velcro) and strap to carry and for storage.\"},\n",
       "     {'text': \"In a still further embodiment, the improved slash and gash resistant protective composite fabric of the present invention can be manufactured and constructed to comprise a dog boot insoles, which slide into existing dog boots that are commercially available on the market. This embodiment would also feature the above-noted pockets on the inside of the garment whereby the “Cool Packs” can be positioned therein. In this embodiment, the improved slash and gash resistant protective composite fabric of the present invention is cut into the shape of the dog boot base, roughly an oval shape, and the insole is made using one or more layers of the slash resistant fabric which are sewn together to prevent slippage/moving; the “insole” is inserted into the dog boot with the polymer matrix/abrasive side down; the dog's foot is then slid into the boot and secured in place with existing boot ties.\"},\n",
       "     {'text': \"In a preferred embodiment, the improved protective composite fabric of the present invention further comprises, with reference to  FIG. 2 , a resilient elastically deformable material  7  having at least one sensor therein for monitoring of vital signs of a wearer, the resilient elastically deformable material  7  being in association with the at least one layer of a base fabric and the at least one layer of the rigid fabric. One possible example of a material that could be utilized is “Life Shirt” ™ by Vivometrics, which utilizes an elastic at the top (which is connected to a computer chip) and a band positioned around the wearer's body to monitor vital signs, though other variations to this are possible also, as would be apparent to one skilled in the art. It will be understood that the protective composite fabric of the present invention could further comprise a micro chip computer (not shown) for monitoring the vital signs of the wearer, and that such vital signs of the wearer can be transmitted as a signal sent from a transmitter (not shown) to a receiver (not shown) remote from the protective composite fabric. Of course, such a transmitter could be positioned within the garment, as would be apparent to one skilled in the art. In this manner, and particularly when an animal is wearing the garment, when the animal is nearing a dangerous level for any of the vitals being monitored, the handler or keeper or central station would be alerted to attend to the animal that is under stress before the animal's health is compromised or expiration occurs.\"},\n",
       "     {'text': 'With reference to  FIGS. 4 and 5 , protective articles can be manufactured utilizing the improved protective composite fabric of the present invention. Examples of such protective gear designed for the human body in law enforcement or for military and security personnel, are gauntlets (Flexi-Shield from wrist to elbow and wrist to upper arm), gaiters (Flexi-Shield ankle to knee), foot guards (Flexi-Shield worn under stockings and in shoes), palm and thumb guards (Flexi-Shield worn under leather gloves), neck guards, groin guards (Flexi-Shield to protect femoral artery, inner thigh area in the groin/pelvic area; worn over or under work pants, wind suits with Flexi Shield in arms, legs and groin area, coveralls or chaps.'},\n",
       "     {'text': 'Protective articles can also be manufactured for working dogs, horses or other animals utilizing the improved protective composite fabric of the present invention. Examples of such can be blankets, leg guards with flexi-shield to protect against sharp edges, barb wire, etc., or a full body uniform with flexi-shield reinforcement for coverage of the belly, sides, spine and neck, possibly in conjunction with the previously noted Cool Pack technology, or partial body coverage for one or a combination of chest, under belly or other areas such as neck region. In such configurations the present invention provides less weight for the wearer to wear, in that the weight of a protective garment made with the composite fabric of the present invention can have a weight of approximately 1.5 lbs versus that of 20 lb for a conventional ballistic vest.'},\n",
       "     {'text': 'FIGS. 4 and 5  illustrate embodiments of the layering of fabric layers that can be assembled and manufactured to form protective, slash resistant articles utilizing the improved protective composite fabric of the present invention therein. The skin (body) of a human or animal (such a dog or horse) is illustrated as  20  in  FIG. 4 . In a preferred embodiment, an embodiment of the protective composite fabric  17  of the present invention is sandwiched between at least one or more layers of yellow fabric  16  and  18 , it being understood that either of yellow fabric layers  16  and  18  may each comprise multiple layers of yellow fabric, these preferably being yellow aramide fabric layers. These yellow fabric layers  16  and  18  (which obviously have the protective composite fabric  17  positioned therebetween) are then in turn encased between each of an inside layer  19  of covering fabric, and an outside layer  15  of covering fabric, which, of course are all sewn or secured together around the edges. In a preferred embodiment, this inside layer  19  is positioned immediately adjacent to the skin or body  20  of the wearer (as shown in  FIG. 4 ), and the outside layer  15  will form the outer surface of the protective article formed from layering the above-noted fabric layers as described. In a further embodiment, the inside layer  19  of covering fabric may be dispensed with, thus leaving yellow fabric layer  18  positioned immediately adjacent to the skin or body  20  of the wearer. In another preferred embodiment, inside layer  19  and outside layer  15  are formed from black or camouflage covering fabrics.'},\n",
       "     {'text': 'The present invention has been described herein with regard to preferred embodiments. However, it will be obvious to persons skilled in the art that a number of variations and modifications can be made without departing from the scope of the invention as described herein.'}],\n",
       "    'briefDescriptionOfDrawings': ['BRIEF DESCRIPTION OF THE DRAWINGS',\n",
       "     'A preferred embodiment of the present invention is described below with reference to the accompanying drawings, in which:',\n",
       "     'FIG. 1',\n",
       "     ' is a perspective view of an embodiment of the protective composite fabric of the present invention;',\n",
       "     'FIG. 2',\n",
       "     ' is a perspective view of an embodiment of the resilient elastically deformable material having at least one sensor therein for monitoring of vital signs of a wearer for use in the protective composite fabric of the present invention;',\n",
       "     'FIG. 3',\n",
       "     ' is a perspective view of another embodiment of the resilient elastically deformable material having at least one sensor therein for monitoring of vital signs of a wearer for use in the protective composite fabric of the present invention;',\n",
       "     'FIG. 4',\n",
       "     ' is an exploded view of an embodiment of the protective composite fabric of the present invention sandwiched between inner and outer layers of fabric to form a protective garment; and',\n",
       "     'FIG. 5',\n",
       "     ' is a side view of an embodiment of the protective composite fabric of the present invention sandwiched between inner and outer layers of fabric to form a protective garment.'],\n",
       "    'claims': [{'claim': '1 . A protective composite fabric comprising:\\n a) at least one layer of base fabric, wherein the base fabric is a densely woven, ballistic fabric; b) at least one rigid ballistic fabric layer having a base layer and a hard polymer layer having a special matrix bonded onto the base layer, the at least one rigid ballistic fabric layer being cut into strips of material having a scale-like pattern or shape and being connected to the at least one layer of base fabric in overlapping layers whereby the at least one layer of base fabric is covered; and c) a resilient elastically deformable material having at least one sensor therein for monitoring of vital signs of a wearer, the resilient elastically deformable material being in association with the at least one layer of a base fabric and the at least one rigid ballistic fabric layer.'},\n",
       "     {'claim': '2 . The protective composite fabric of  claim 1 , further comprising a micro chip computer for monitoring the vital signs of the wearer.'},\n",
       "     {'claim': '3 . The protective composite fabric of  claim 1 , wherein the vital signs of the wearer are transmitted as a signal sent from a transmitter to a receiver remote from the protective composite fabric.'},\n",
       "     {'claim': '3 . The protective composite fabric of  claim 1 , further comprising cooling means interconnected with the protective composite fabric.'},\n",
       "     {'claim': '4 . The protective composite fabric of  claim 1 , wherein the protective composite fabric is substantially slash and gash resistant.'},\n",
       "     {'claim': '5 . The protective composite fabric of  claim 1 , wherein the at least one rigid fabric layer comprises a plurality of rigid ballistic fabric layers.'},\n",
       "     {'claim': '7 . A system for providing a protective composite fabric comprising:\\n providing at least one layer of base fabric, wherein the base fabric is a densely woven, ballistic fabric; providing a plurality of overlapping layers of rigid ballistic fabric connected to the at least one layer of base fabric, the rigid fabric comprising a base layer and a hard polymer layer having a special matrix, the hard polymer layer being bonded onto the base layer; providing a resilient elastically deformable material having at least one sensor therein for monitoring of vital signs of a wearer, the resilient elastically deformable material being in association with the at least one layer of a base fabric and the rigid ballistic fabric; cutting the rigid ballistic fabric into strips of material; cutting each of the strips of material into a scale-like pattern or shape; and connecting the strips of material to the at least one layer of base fabric in the overlapping layers whereby the at least one layer of base fabric is covered.'},\n",
       "     {'claim': '8 . A slash resistant fabric garment comprising:\\n at least one inside fabric layer, the at least one fabric layer being constructed and arranged for contact adjacent to the skin or body of a wearer; at least one first layer and at least one second layer of ballistic fabric; at least one protective composite fabric layer as defined in any one of  claims 1  to  5 , the at least one protective composite fabric layer being positioned and secured between the at least one first layer and the second at least one layer of ballistic fabric; and at least one outside fabric layer, the at least one outside fabric layer being constructed and arranged to form an outside surface of the slash resistant fabric composition, and wherein the at least one first layer of ballistic fabric, the at least one protective composite fabric layer and the at least one second layer of ballistic fabric are secured and positioned between the at least one inside fabric layer and the at least one outside fabric layer.'},\n",
       "     {'claim': '9 . The protective composite fabric of  claim 8 , wherein the garment further comprises at least one pocket formed on an inner surface thereof.'},\n",
       "     {'claim': '10 . The protective composite fabric of  claim 9 , wherein the at least one pocket is operably able to receive and support a removable temperature adjustment element placed therein.'},\n",
       "     {'claim': '11 . The protective composite fabric of  claim 10 , wherein the temperature adjustment element is a gel pack.'},\n",
       "     {'claim': '12 . The protective composite fabric of  claim 8 , wherein the garment further comprises a plurality of pockets formed on the inner surface thereof.'}]}}],\n",
       " 'applicationConfirmationNumber': '3233',\n",
       " 'applicationStatusCategory': 'Abandoned  --  Failure to Respond to an Office Action',\n",
       " 'applicationStatusDate': '2014-08-27',\n",
       " 'applicationTypeCategory': 'Utility',\n",
       " 'filingDate': '2010-09-13',\n",
       " 'firstInventorToFileIndicator': 'false',\n",
       " 'groupArtUnitNumber': '1786',\n",
       " 'prosecutionHistoryData': [{'eventDate': '2015-03-17',\n",
       "   'eventCode': 'PA..',\n",
       "   'eventDescriptionText': 'Change in Power of Attorney (May Include Associate POA)'},\n",
       "  {'eventDate': '2015-03-17',\n",
       "   'eventCode': 'C.AD',\n",
       "   'eventDescriptionText': 'Correspondence Address Change'},\n",
       "  {'eventDate': '2014-09-02',\n",
       "   'eventCode': 'MABN2',\n",
       "   'eventDescriptionText': 'Mail Abandonment for Failure to Respond to Office Action'},\n",
       "  {'eventDate': '2014-08-27',\n",
       "   'eventCode': 'ABN2',\n",
       "   'eventDescriptionText': 'Aband. for Failure to Respond to O. A.'},\n",
       "  {'eventDate': '2014-02-26',\n",
       "   'eventCode': 'MCTRS',\n",
       "   'eventDescriptionText': 'Mail Restriction Requirement'},\n",
       "  {'eventDate': '2014-02-24',\n",
       "   'eventCode': 'CTRS',\n",
       "   'eventDescriptionText': 'Restriction/Election Requirement'},\n",
       "  {'eventDate': '2014-01-02',\n",
       "   'eventCode': 'DOCK',\n",
       "   'eventDescriptionText': 'Case Docketed to Examiner in GAU'},\n",
       "  {'eventDate': '2013-12-10',\n",
       "   'eventCode': 'DOCK',\n",
       "   'eventDescriptionText': 'Case Docketed to Examiner in GAU'},\n",
       "  {'eventDate': '2013-11-22',\n",
       "   'eventCode': 'FTFI',\n",
       "   'eventDescriptionText': 'FITF set to NO - revise initial setting'},\n",
       "  {'eventDate': '2013-11-22',\n",
       "   'eventCode': 'COMP',\n",
       "   'eventDescriptionText': 'Application Is Now Complete'},\n",
       "  {'eventDate': '2013-11-22',\n",
       "   'eventCode': 'OIPE',\n",
       "   'eventDescriptionText': 'Application Dispatched from OIPE'},\n",
       "  {'eventDate': '2013-11-22',\n",
       "   'eventCode': 'FLRCPT.U',\n",
       "   'eventDescriptionText': 'Filing Receipt - Updated'},\n",
       "  {'eventDate': '2013-11-22',\n",
       "   'eventCode': 'MPEN',\n",
       "   'eventDescriptionText': 'Mail Pre-Exam Notice'},\n",
       "  {'eventDate': '2011-07-22',\n",
       "   'eventCode': 'ADDFLFEE',\n",
       "   'eventDescriptionText': 'Additional Application Filing Fees'},\n",
       "  {'eventDate': '2010-09-13',\n",
       "   'eventCode': 'CLAIM',\n",
       "   'eventDescriptionText': 'Claim Preliminary Amendment'},\n",
       "  {'eventDate': '2011-06-10',\n",
       "   'eventCode': 'WPABN',\n",
       "   'eventDescriptionText': 'Withdraw Pre-Exam Abandon'},\n",
       "  {'eventDate': '2013-11-06',\n",
       "   'eventCode': 'PA..',\n",
       "   'eventDescriptionText': 'Change in Power of Attorney (May Include Associate POA)'},\n",
       "  {'eventDate': '2013-11-06',\n",
       "   'eventCode': 'C.AD',\n",
       "   'eventDescriptionText': 'Correspondence Address Change'},\n",
       "  {'eventDate': '2011-08-31',\n",
       "   'eventCode': 'A.PE',\n",
       "   'eventDescriptionText': 'Preliminary Amendment'},\n",
       "  {'eventDate': '2011-06-08',\n",
       "   'eventCode': 'ABNX',\n",
       "   'eventDescriptionText': 'Abandonment -- During Preexam Processing'},\n",
       "  {'eventDate': '2011-06-10',\n",
       "   'eventCode': 'WPABN',\n",
       "   'eventDescriptionText': 'Withdraw Pre-Exam Abandon'},\n",
       "  {'eventDate': '2011-06-08',\n",
       "   'eventCode': 'ABNX',\n",
       "   'eventDescriptionText': 'Abandonment -- During Preexam Processing'},\n",
       "  {'eventDate': '2010-09-29',\n",
       "   'eventCode': 'INCD',\n",
       "   'eventDescriptionText': 'Notice Mailed--Application Incomplete--Filing Date Assigned '},\n",
       "  {'eventDate': '2010-10-01',\n",
       "   'eventCode': 'W/OA',\n",
       "   'eventDescriptionText': 'Pre-Exam Office Action Withdrawn'},\n",
       "  {'eventDate': '2011-06-10',\n",
       "   'eventCode': 'WPABN',\n",
       "   'eventDescriptionText': 'Withdraw Pre-Exam Abandon'},\n",
       "  {'eventDate': '2011-08-02',\n",
       "   'eventCode': 'MPREV',\n",
       "   'eventDescriptionText': 'Mail-Petition to Revive Application - Granted'},\n",
       "  {'eventDate': '2011-08-02',\n",
       "   'eventCode': 'PREV',\n",
       "   'eventDescriptionText': 'Petition to Revive Application - Granted'},\n",
       "  {'eventDate': '2011-07-22',\n",
       "   'eventCode': 'PET.',\n",
       "   'eventDescriptionText': 'Petition Entered'},\n",
       "  {'eventDate': '2011-06-10',\n",
       "   'eventCode': 'MABN',\n",
       "   'eventDescriptionText': 'Abandonment Mailed'},\n",
       "  {'eventDate': '2010-12-02',\n",
       "   'eventCode': 'ABNX',\n",
       "   'eventDescriptionText': 'Abandonment -- During Preexam Processing'},\n",
       "  {'eventDate': '2011-03-17',\n",
       "   'eventCode': 'PG-ISSUE',\n",
       "   'eventDescriptionText': 'PG-Pub Issue Notification'},\n",
       "  {'eventDate': '2010-10-01',\n",
       "   'eventCode': 'INCD',\n",
       "   'eventDescriptionText': 'Notice Mailed--Application Incomplete--Filing Date Assigned '},\n",
       "  {'eventDate': '2010-09-13',\n",
       "   'eventCode': 'APPERMS',\n",
       "   'eventDescriptionText': 'Applicants have given acceptable permission for participating foreign '},\n",
       "  {'eventDate': '2010-09-20',\n",
       "   'eventCode': 'L128',\n",
       "   'eventDescriptionText': 'Cleared by L&R (LARS)'},\n",
       "  {'eventDate': '2010-09-20',\n",
       "   'eventCode': 'L198',\n",
       "   'eventDescriptionText': 'Referred to Level 2 (LARS) by OIPE CSR'},\n",
       "  {'eventDate': '2010-09-17',\n",
       "   'eventCode': 'SCAN',\n",
       "   'eventDescriptionText': 'IFW Scan & PACR Auto Security Review'},\n",
       "  {'eventDate': '2010-09-13',\n",
       "   'eventCode': 'IEXX',\n",
       "   'eventDescriptionText': 'Initial Exam Team nn'}],\n",
       " 'relatedDocumentData': [{'descriptionText': 'which is Patented claims the benefit of 12923265',\n",
       "   'applicationNumberText': '14262736',\n",
       "   'filingDate': '2014-04-26',\n",
       "   'childDocumentStatusCode': 'Patented',\n",
       "   'patentNumber': '10561184'}],\n",
       " 'simpleLabelFromStatusByFinalRejection': 0}"
      ]
     },
     "execution_count": 53,
     "metadata": {},
     "output_type": "execute_result"
    }
   ],
   "source": [
    "comprehensive.find_one()#['publications'][0]['fullText']['claims']"
   ]
  },
  {
   "cell_type": "code",
   "execution_count": 54,
   "metadata": {},
   "outputs": [
    {
     "data": {
      "text/plain": [
       "0"
      ]
     },
     "execution_count": 54,
     "metadata": {},
     "output_type": "execute_result"
    }
   ],
   "source": [
    "comprehensive.find_one()['simpleLabelFromStatusByFinalRejection']"
   ]
  },
  {
   "cell_type": "code",
   "execution_count": 55,
   "metadata": {},
   "outputs": [],
   "source": [
    "# comprehensive.count_documents({})\n",
    "\n"
   ]
  },
  {
   "cell_type": "markdown",
   "metadata": {},
   "source": [
    "# 2. Extract Field on DB"
   ]
  },
  {
   "cell_type": "code",
   "execution_count": 56,
   "metadata": {},
   "outputs": [],
   "source": [
    "import nltk\n",
    "from nltk.corpus import stopwords\n",
    "from nltk.tokenize import word_tokenize\n",
    "from nltk.stem.porter import PorterStemmer\n",
    "\n",
    "import re\n",
    "import string\n"
   ]
  },
  {
   "cell_type": "code",
   "execution_count": 57,
   "metadata": {},
   "outputs": [
    {
     "name": "stderr",
     "output_type": "stream",
     "text": [
      "[nltk_data] Downloading package stopwords to\n",
      "[nltk_data]     /Users/yifeining/nltk_data...\n",
      "[nltk_data]   Package stopwords is already up-to-date!\n"
     ]
    }
   ],
   "source": [
    "nltk.download('stopwords')\n",
    "stop_words = stopwords.words('english')\n"
   ]
  },
  {
   "cell_type": "code",
   "execution_count": 58,
   "metadata": {},
   "outputs": [
    {
     "data": {
      "text/plain": [
       "(['protective',\n",
       "  'composite',\n",
       "  'fabric',\n",
       "  'comprising',\n",
       "  'least',\n",
       "  'one',\n",
       "  'layer',\n",
       "  'base',\n",
       "  'fabric',\n",
       "  'wherein',\n",
       "  'base',\n",
       "  'fabric',\n",
       "  'densely',\n",
       "  'woven',\n",
       "  'ballistic',\n",
       "  'fabric',\n",
       "  'b',\n",
       "  'least',\n",
       "  'one',\n",
       "  'rigid',\n",
       "  'ballistic',\n",
       "  'fabric',\n",
       "  'layer',\n",
       "  'base',\n",
       "  'layer',\n",
       "  'hard',\n",
       "  'polymer',\n",
       "  'layer',\n",
       "  'special',\n",
       "  'matrix',\n",
       "  'bonded',\n",
       "  'onto',\n",
       "  'base',\n",
       "  'layer',\n",
       "  'least',\n",
       "  'one',\n",
       "  'rigid',\n",
       "  'ballistic',\n",
       "  'fabric',\n",
       "  'layer',\n",
       "  'cut',\n",
       "  'strips',\n",
       "  'material',\n",
       "  'scale-like',\n",
       "  'pattern',\n",
       "  'shape',\n",
       "  'connected',\n",
       "  'least',\n",
       "  'one',\n",
       "  'layer',\n",
       "  'base',\n",
       "  'fabric',\n",
       "  'overlapping',\n",
       "  'layers',\n",
       "  'whereby',\n",
       "  'least',\n",
       "  'one',\n",
       "  'layer',\n",
       "  'base',\n",
       "  'fabric',\n",
       "  'covered',\n",
       "  'c',\n",
       "  'resilient',\n",
       "  'elastically',\n",
       "  'deformable',\n",
       "  'material',\n",
       "  'least',\n",
       "  'one',\n",
       "  'sensor',\n",
       "  'therein',\n",
       "  'monitoring',\n",
       "  'vital',\n",
       "  'signs',\n",
       "  'wearer',\n",
       "  'resilient',\n",
       "  'elastically',\n",
       "  'deformable',\n",
       "  'material',\n",
       "  'association',\n",
       "  'least',\n",
       "  'one',\n",
       "  'layer',\n",
       "  'base',\n",
       "  'fabric',\n",
       "  'least',\n",
       "  'one',\n",
       "  'rigid',\n",
       "  'ballistic',\n",
       "  'fabric',\n",
       "  'layer',\n",
       "  'protective',\n",
       "  'composite',\n",
       "  'fabric',\n",
       "  'claim',\n",
       "  'comprising',\n",
       "  'micro',\n",
       "  'chip',\n",
       "  'computer',\n",
       "  'monitoring',\n",
       "  'vital',\n",
       "  'signs',\n",
       "  'wearer',\n",
       "  'protective',\n",
       "  'composite',\n",
       "  'fabric',\n",
       "  'claim',\n",
       "  'wherein',\n",
       "  'vital',\n",
       "  'signs',\n",
       "  'wearer',\n",
       "  'transmitted',\n",
       "  'signal',\n",
       "  'sent',\n",
       "  'transmitter',\n",
       "  'receiver',\n",
       "  'remote',\n",
       "  'protective',\n",
       "  'composite',\n",
       "  'fabric',\n",
       "  'protective',\n",
       "  'composite',\n",
       "  'fabric',\n",
       "  'claim',\n",
       "  'comprising',\n",
       "  'cooling',\n",
       "  'means',\n",
       "  'interconnected',\n",
       "  'protective',\n",
       "  'composite',\n",
       "  'fabric',\n",
       "  'protective',\n",
       "  'composite',\n",
       "  'fabric',\n",
       "  'claim',\n",
       "  'wherein',\n",
       "  'protective',\n",
       "  'composite',\n",
       "  'fabric',\n",
       "  'substantially',\n",
       "  'slash',\n",
       "  'gash',\n",
       "  'resistant',\n",
       "  'protective',\n",
       "  'composite',\n",
       "  'fabric',\n",
       "  'claim',\n",
       "  'wherein',\n",
       "  'least',\n",
       "  'one',\n",
       "  'rigid',\n",
       "  'fabric',\n",
       "  'layer',\n",
       "  'comprises',\n",
       "  'plurality',\n",
       "  'rigid',\n",
       "  'ballistic',\n",
       "  'fabric',\n",
       "  'layers',\n",
       "  'system',\n",
       "  'providing',\n",
       "  'protective',\n",
       "  'composite',\n",
       "  'fabric',\n",
       "  'comprising',\n",
       "  'providing',\n",
       "  'least',\n",
       "  'one',\n",
       "  'layer',\n",
       "  'base',\n",
       "  'fabric',\n",
       "  'wherein',\n",
       "  'base',\n",
       "  'fabric',\n",
       "  'densely',\n",
       "  'woven',\n",
       "  'ballistic',\n",
       "  'fabric',\n",
       "  'providing',\n",
       "  'plurality',\n",
       "  'overlapping',\n",
       "  'layers',\n",
       "  'rigid',\n",
       "  'ballistic',\n",
       "  'fabric',\n",
       "  'connected',\n",
       "  'least',\n",
       "  'one',\n",
       "  'layer',\n",
       "  'base',\n",
       "  'fabric',\n",
       "  'rigid',\n",
       "  'fabric',\n",
       "  'comprising',\n",
       "  'base',\n",
       "  'layer',\n",
       "  'hard',\n",
       "  'polymer',\n",
       "  'layer',\n",
       "  'special',\n",
       "  'matrix',\n",
       "  'hard',\n",
       "  'polymer',\n",
       "  'layer',\n",
       "  'bonded',\n",
       "  'onto',\n",
       "  'base',\n",
       "  'layer',\n",
       "  'providing',\n",
       "  'resilient',\n",
       "  'elastically',\n",
       "  'deformable',\n",
       "  'material',\n",
       "  'least',\n",
       "  'one',\n",
       "  'sensor',\n",
       "  'therein',\n",
       "  'monitoring',\n",
       "  'vital',\n",
       "  'signs',\n",
       "  'wearer',\n",
       "  'resilient',\n",
       "  'elastically',\n",
       "  'deformable',\n",
       "  'material',\n",
       "  'association',\n",
       "  'least',\n",
       "  'one',\n",
       "  'layer',\n",
       "  'base',\n",
       "  'fabric',\n",
       "  'rigid',\n",
       "  'ballistic',\n",
       "  'fabric',\n",
       "  'cutting',\n",
       "  'rigid',\n",
       "  'ballistic',\n",
       "  'fabric',\n",
       "  'strips',\n",
       "  'material',\n",
       "  'cutting',\n",
       "  'strips',\n",
       "  'material',\n",
       "  'scale-like',\n",
       "  'pattern',\n",
       "  'shape',\n",
       "  'connecting',\n",
       "  'strips',\n",
       "  'material',\n",
       "  'least',\n",
       "  'one',\n",
       "  'layer',\n",
       "  'base',\n",
       "  'fabric',\n",
       "  'overlapping',\n",
       "  'layers',\n",
       "  'whereby',\n",
       "  'least',\n",
       "  'one',\n",
       "  'layer',\n",
       "  'base',\n",
       "  'fabric',\n",
       "  'covered',\n",
       "  'slash',\n",
       "  'resistant',\n",
       "  'fabric',\n",
       "  'garment',\n",
       "  'comprising',\n",
       "  'least',\n",
       "  'one',\n",
       "  'inside',\n",
       "  'fabric',\n",
       "  'layer',\n",
       "  'least',\n",
       "  'one',\n",
       "  'fabric',\n",
       "  'layer',\n",
       "  'constructed',\n",
       "  'arranged',\n",
       "  'contact',\n",
       "  'adjacent',\n",
       "  'skin',\n",
       "  'body',\n",
       "  'wearer',\n",
       "  'least',\n",
       "  'one',\n",
       "  'first',\n",
       "  'layer',\n",
       "  'least',\n",
       "  'one',\n",
       "  'second',\n",
       "  'layer',\n",
       "  'ballistic',\n",
       "  'fabric',\n",
       "  'least',\n",
       "  'one',\n",
       "  'protective',\n",
       "  'composite',\n",
       "  'fabric',\n",
       "  'layer',\n",
       "  'defined',\n",
       "  'one',\n",
       "  'claims',\n",
       "  'least',\n",
       "  'one',\n",
       "  'protective',\n",
       "  'composite',\n",
       "  'fabric',\n",
       "  'layer',\n",
       "  'positioned',\n",
       "  'secured',\n",
       "  'least',\n",
       "  'one',\n",
       "  'first',\n",
       "  'layer',\n",
       "  'second',\n",
       "  'least',\n",
       "  'one',\n",
       "  'layer',\n",
       "  'ballistic',\n",
       "  'fabric',\n",
       "  'least',\n",
       "  'one',\n",
       "  'outside',\n",
       "  'fabric',\n",
       "  'layer',\n",
       "  'least',\n",
       "  'one',\n",
       "  'outside',\n",
       "  'fabric',\n",
       "  'layer',\n",
       "  'constructed',\n",
       "  'arranged',\n",
       "  'form',\n",
       "  'outside',\n",
       "  'surface',\n",
       "  'slash',\n",
       "  'resistant',\n",
       "  'fabric',\n",
       "  'composition',\n",
       "  'wherein',\n",
       "  'least',\n",
       "  'one',\n",
       "  'first',\n",
       "  'layer',\n",
       "  'ballistic',\n",
       "  'fabric',\n",
       "  'least',\n",
       "  'one',\n",
       "  'protective',\n",
       "  'composite',\n",
       "  'fabric',\n",
       "  'layer',\n",
       "  'least',\n",
       "  'one',\n",
       "  'second',\n",
       "  'layer',\n",
       "  'ballistic',\n",
       "  'fabric',\n",
       "  'secured',\n",
       "  'positioned',\n",
       "  'least',\n",
       "  'one',\n",
       "  'inside',\n",
       "  'fabric',\n",
       "  'layer',\n",
       "  'least',\n",
       "  'one',\n",
       "  'outside',\n",
       "  'fabric',\n",
       "  'layer',\n",
       "  'protective',\n",
       "  'composite',\n",
       "  'fabric',\n",
       "  'claim',\n",
       "  'wherein',\n",
       "  'garment',\n",
       "  'comprises',\n",
       "  'least',\n",
       "  'one',\n",
       "  'pocket',\n",
       "  'formed',\n",
       "  'inner',\n",
       "  'surface',\n",
       "  'thereof',\n",
       "  'protective',\n",
       "  'composite',\n",
       "  'fabric',\n",
       "  'claim',\n",
       "  'wherein',\n",
       "  'least',\n",
       "  'one',\n",
       "  'pocket',\n",
       "  'operably',\n",
       "  'able',\n",
       "  'receive',\n",
       "  'support',\n",
       "  'removable',\n",
       "  'temperature',\n",
       "  'adjustment',\n",
       "  'element',\n",
       "  'placed',\n",
       "  'therein',\n",
       "  'protective',\n",
       "  'composite',\n",
       "  'fabric',\n",
       "  'claim',\n",
       "  'wherein',\n",
       "  'temperature',\n",
       "  'adjustment',\n",
       "  'element',\n",
       "  'gel',\n",
       "  'pack',\n",
       "  'protective',\n",
       "  'composite',\n",
       "  'fabric',\n",
       "  'claim',\n",
       "  'wherein',\n",
       "  'garment',\n",
       "  'comprises',\n",
       "  'plurality',\n",
       "  'pockets',\n",
       "  'formed',\n",
       "  'inner',\n",
       "  'surface',\n",
       "  'thereof'],\n",
       " 0)"
      ]
     },
     "execution_count": 58,
     "metadata": {},
     "output_type": "execute_result"
    }
   ],
   "source": [
    "def clean_text(claim):\n",
    "    claim = claim.lower()\n",
    "    for tag in ['DETAILED DESCRIPTION OF THE PREFERRED EMBODIMENT', 'BACKGROUND OF THE INVENTION']:\n",
    "        claim = claim.replace(tag, '')\n",
    "    words = [s for s in word_tokenize(claim) if s not in string.punctuation]\n",
    "    words = [w for w in words if not w in stop_words]\n",
    "    words = [s for s in words if not re.match(r'\\d', s)]\n",
    "    return words\n",
    "\n",
    "\n",
    "def get_claim(obj):\n",
    "    try:\n",
    "        concat_claims = ' '.join([clm['claim'] for clm in obj['publications'][0]['fullText']['claims']])\n",
    "    except:\n",
    "        return None\n",
    "    out = clean_text(concat_claims)\n",
    "    return out\n",
    "\n",
    "\n",
    "def get_label(obj):\n",
    "    try:\n",
    "        lab = obj['simpleLabelFromStatusByFinalRejection']\n",
    "    except:\n",
    "        return None\n",
    "    return lab\n",
    "    \n",
    "def map_func(obj):\n",
    "    claim = get_claim(obj)\n",
    "    label = get_label(obj)\n",
    "    return claim, label\n",
    "\n",
    "    \n",
    "\n",
    "map_func(comprehensive.find_one())"
   ]
  },
  {
   "cell_type": "code",
   "execution_count": 59,
   "metadata": {},
   "outputs": [
    {
     "data": {
      "text/plain": [
       "6299342"
      ]
     },
     "execution_count": 59,
     "metadata": {},
     "output_type": "execute_result"
    }
   ],
   "source": [
    "# get_claim(comprehensive.find_one())\n",
    "comprehensive.estimated_document_count()"
   ]
  },
  {
   "cell_type": "code",
   "execution_count": 60,
   "metadata": {},
   "outputs": [],
   "source": [
    "query = {\"simpleLabelFromStatusByFinalRejection\": { \"$type\" : \"int\" }, \n",
    "         \"publications\": { \"$type\" : \"array\" }}\n"
   ]
  },
  {
   "cell_type": "code",
   "execution_count": 196,
   "metadata": {},
   "outputs": [
    {
     "ename": "KeyboardInterrupt",
     "evalue": "",
     "output_type": "error",
     "traceback": [
      "\u001b[0;31m---------------------------------------------------------------------------\u001b[0m",
      "\u001b[0;31mKeyboardInterrupt\u001b[0m                         Traceback (most recent call last)",
      "\u001b[0;32m<ipython-input-196-895cb580eb1a>\u001b[0m in \u001b[0;36m<module>\u001b[0;34m\u001b[0m\n\u001b[1;32m      4\u001b[0m \u001b[0;31m# break_pt = 0\u001b[0m\u001b[0;34m\u001b[0m\u001b[0;34m\u001b[0m\u001b[0m\n\u001b[1;32m      5\u001b[0m \u001b[0;32mwith\u001b[0m \u001b[0mopen\u001b[0m\u001b[0;34m(\u001b[0m\u001b[0;34m'cleaned_data.txt'\u001b[0m\u001b[0;34m,\u001b[0m \u001b[0;34m'a'\u001b[0m\u001b[0;34m)\u001b[0m \u001b[0;32mas\u001b[0m \u001b[0mfile\u001b[0m\u001b[0;34m:\u001b[0m\u001b[0;34m\u001b[0m\u001b[0m\n\u001b[0;32m----> 6\u001b[0;31m     \u001b[0;32mfor\u001b[0m \u001b[0mi\u001b[0m \u001b[0;32min\u001b[0m \u001b[0mfiltered_comp\u001b[0m\u001b[0;34m:\u001b[0m\u001b[0;34m\u001b[0m\u001b[0m\n\u001b[0m\u001b[1;32m      7\u001b[0m     \u001b[0;31m#     print(i)\u001b[0m\u001b[0;34m\u001b[0m\u001b[0;34m\u001b[0m\u001b[0m\n\u001b[1;32m      8\u001b[0m         \u001b[0mk\u001b[0m\u001b[0;34m,\u001b[0m \u001b[0ml\u001b[0m \u001b[0;34m=\u001b[0m \u001b[0mmap_func\u001b[0m\u001b[0;34m(\u001b[0m\u001b[0mi\u001b[0m\u001b[0;34m)\u001b[0m\u001b[0;34m\u001b[0m\u001b[0m\n",
      "\u001b[0;32m/Applications/anaconda3/lib/python3.7/site-packages/pymongo/cursor.py\u001b[0m in \u001b[0;36mnext\u001b[0;34m(self)\u001b[0m\n\u001b[1;32m   1154\u001b[0m         \u001b[0;32mif\u001b[0m \u001b[0mself\u001b[0m\u001b[0;34m.\u001b[0m\u001b[0m__empty\u001b[0m\u001b[0;34m:\u001b[0m\u001b[0;34m\u001b[0m\u001b[0m\n\u001b[1;32m   1155\u001b[0m             \u001b[0;32mraise\u001b[0m \u001b[0mStopIteration\u001b[0m\u001b[0;34m\u001b[0m\u001b[0m\n\u001b[0;32m-> 1156\u001b[0;31m         \u001b[0;32mif\u001b[0m \u001b[0mlen\u001b[0m\u001b[0;34m(\u001b[0m\u001b[0mself\u001b[0m\u001b[0;34m.\u001b[0m\u001b[0m__data\u001b[0m\u001b[0;34m)\u001b[0m \u001b[0;32mor\u001b[0m \u001b[0mself\u001b[0m\u001b[0;34m.\u001b[0m\u001b[0m_refresh\u001b[0m\u001b[0;34m(\u001b[0m\u001b[0;34m)\u001b[0m\u001b[0;34m:\u001b[0m\u001b[0;34m\u001b[0m\u001b[0m\n\u001b[0m\u001b[1;32m   1157\u001b[0m             \u001b[0;32mif\u001b[0m \u001b[0mself\u001b[0m\u001b[0;34m.\u001b[0m\u001b[0m__manipulate\u001b[0m\u001b[0;34m:\u001b[0m\u001b[0;34m\u001b[0m\u001b[0m\n\u001b[1;32m   1158\u001b[0m                 \u001b[0m_db\u001b[0m \u001b[0;34m=\u001b[0m \u001b[0mself\u001b[0m\u001b[0;34m.\u001b[0m\u001b[0m__collection\u001b[0m\u001b[0;34m.\u001b[0m\u001b[0mdatabase\u001b[0m\u001b[0;34m\u001b[0m\u001b[0m\n",
      "\u001b[0;32m/Applications/anaconda3/lib/python3.7/site-packages/pymongo/cursor.py\u001b[0m in \u001b[0;36m_refresh\u001b[0;34m(self)\u001b[0m\n\u001b[1;32m   1091\u001b[0m                                     \u001b[0mself\u001b[0m\u001b[0;34m.\u001b[0m\u001b[0m__max_await_time_ms\u001b[0m\u001b[0;34m,\u001b[0m\u001b[0;34m\u001b[0m\u001b[0m\n\u001b[1;32m   1092\u001b[0m                                     self.__exhaust_mgr)\n\u001b[0;32m-> 1093\u001b[0;31m             \u001b[0mself\u001b[0m\u001b[0;34m.\u001b[0m\u001b[0m__send_message\u001b[0m\u001b[0;34m(\u001b[0m\u001b[0mg\u001b[0m\u001b[0;34m)\u001b[0m\u001b[0;34m\u001b[0m\u001b[0m\n\u001b[0m\u001b[1;32m   1094\u001b[0m \u001b[0;34m\u001b[0m\u001b[0m\n\u001b[1;32m   1095\u001b[0m         \u001b[0;32mreturn\u001b[0m \u001b[0mlen\u001b[0m\u001b[0;34m(\u001b[0m\u001b[0mself\u001b[0m\u001b[0;34m.\u001b[0m\u001b[0m__data\u001b[0m\u001b[0;34m)\u001b[0m\u001b[0;34m\u001b[0m\u001b[0m\n",
      "\u001b[0;32m/Applications/anaconda3/lib/python3.7/site-packages/pymongo/cursor.py\u001b[0m in \u001b[0;36m__send_message\u001b[0;34m(self, operation)\u001b[0m\n\u001b[1;32m    953\u001b[0m             response = client._run_operation_with_response(\n\u001b[1;32m    954\u001b[0m                 \u001b[0moperation\u001b[0m\u001b[0;34m,\u001b[0m \u001b[0mself\u001b[0m\u001b[0;34m.\u001b[0m\u001b[0m_unpack_response\u001b[0m\u001b[0;34m,\u001b[0m \u001b[0mexhaust\u001b[0m\u001b[0;34m=\u001b[0m\u001b[0mself\u001b[0m\u001b[0;34m.\u001b[0m\u001b[0m__exhaust\u001b[0m\u001b[0;34m,\u001b[0m\u001b[0;34m\u001b[0m\u001b[0m\n\u001b[0;32m--> 955\u001b[0;31m                 address=self.__address)\n\u001b[0m\u001b[1;32m    956\u001b[0m         \u001b[0;32mexcept\u001b[0m \u001b[0mOperationFailure\u001b[0m\u001b[0;34m:\u001b[0m\u001b[0;34m\u001b[0m\u001b[0m\n\u001b[1;32m    957\u001b[0m             \u001b[0mself\u001b[0m\u001b[0;34m.\u001b[0m\u001b[0m__killed\u001b[0m \u001b[0;34m=\u001b[0m \u001b[0;32mTrue\u001b[0m\u001b[0;34m\u001b[0m\u001b[0m\n",
      "\u001b[0;32m/Applications/anaconda3/lib/python3.7/site-packages/pymongo/mongo_client.py\u001b[0m in \u001b[0;36m_run_operation_with_response\u001b[0;34m(self, operation, unpack_res, exhaust, address)\u001b[0m\n\u001b[1;32m   1345\u001b[0m             \u001b[0maddress\u001b[0m\u001b[0;34m=\u001b[0m\u001b[0maddress\u001b[0m\u001b[0;34m,\u001b[0m\u001b[0;34m\u001b[0m\u001b[0m\n\u001b[1;32m   1346\u001b[0m             \u001b[0mretryable\u001b[0m\u001b[0;34m=\u001b[0m\u001b[0misinstance\u001b[0m\u001b[0;34m(\u001b[0m\u001b[0moperation\u001b[0m\u001b[0;34m,\u001b[0m \u001b[0mmessage\u001b[0m\u001b[0;34m.\u001b[0m\u001b[0m_Query\u001b[0m\u001b[0;34m)\u001b[0m\u001b[0;34m,\u001b[0m\u001b[0;34m\u001b[0m\u001b[0m\n\u001b[0;32m-> 1347\u001b[0;31m             exhaust=exhaust)\n\u001b[0m\u001b[1;32m   1348\u001b[0m \u001b[0;34m\u001b[0m\u001b[0m\n\u001b[1;32m   1349\u001b[0m     \u001b[0;32mdef\u001b[0m \u001b[0m_retry_with_session\u001b[0m\u001b[0;34m(\u001b[0m\u001b[0mself\u001b[0m\u001b[0;34m,\u001b[0m \u001b[0mretryable\u001b[0m\u001b[0;34m,\u001b[0m \u001b[0mfunc\u001b[0m\u001b[0;34m,\u001b[0m \u001b[0msession\u001b[0m\u001b[0;34m,\u001b[0m \u001b[0mbulk\u001b[0m\u001b[0;34m)\u001b[0m\u001b[0;34m:\u001b[0m\u001b[0;34m\u001b[0m\u001b[0m\n",
      "\u001b[0;32m/Applications/anaconda3/lib/python3.7/site-packages/pymongo/mongo_client.py\u001b[0m in \u001b[0;36m_retryable_read\u001b[0;34m(self, func, read_pref, session, address, retryable, exhaust)\u001b[0m\n\u001b[1;32m   1463\u001b[0m                         \u001b[0;31m# not support retryable reads, raise the last error.\u001b[0m\u001b[0;34m\u001b[0m\u001b[0;34m\u001b[0m\u001b[0m\n\u001b[1;32m   1464\u001b[0m                         \u001b[0;32mraise\u001b[0m \u001b[0mlast_error\u001b[0m\u001b[0;34m\u001b[0m\u001b[0m\n\u001b[0;32m-> 1465\u001b[0;31m                     \u001b[0;32mreturn\u001b[0m \u001b[0mfunc\u001b[0m\u001b[0;34m(\u001b[0m\u001b[0msession\u001b[0m\u001b[0;34m,\u001b[0m \u001b[0mserver\u001b[0m\u001b[0;34m,\u001b[0m \u001b[0msock_info\u001b[0m\u001b[0;34m,\u001b[0m \u001b[0mslave_ok\u001b[0m\u001b[0;34m)\u001b[0m\u001b[0;34m\u001b[0m\u001b[0m\n\u001b[0m\u001b[1;32m   1466\u001b[0m             \u001b[0;32mexcept\u001b[0m \u001b[0mServerSelectionTimeoutError\u001b[0m\u001b[0;34m:\u001b[0m\u001b[0;34m\u001b[0m\u001b[0m\n\u001b[1;32m   1467\u001b[0m                 \u001b[0;32mif\u001b[0m \u001b[0mretrying\u001b[0m\u001b[0;34m:\u001b[0m\u001b[0;34m\u001b[0m\u001b[0m\n",
      "\u001b[0;32m/Applications/anaconda3/lib/python3.7/site-packages/pymongo/mongo_client.py\u001b[0m in \u001b[0;36m_cmd\u001b[0;34m(session, server, sock_info, slave_ok)\u001b[0m\n\u001b[1;32m   1339\u001b[0m                 \u001b[0mself\u001b[0m\u001b[0;34m.\u001b[0m\u001b[0m_event_listeners\u001b[0m\u001b[0;34m,\u001b[0m\u001b[0;34m\u001b[0m\u001b[0m\n\u001b[1;32m   1340\u001b[0m                 \u001b[0mexhaust\u001b[0m\u001b[0;34m,\u001b[0m\u001b[0;34m\u001b[0m\u001b[0m\n\u001b[0;32m-> 1341\u001b[0;31m                 unpack_res)\n\u001b[0m\u001b[1;32m   1342\u001b[0m \u001b[0;34m\u001b[0m\u001b[0m\n\u001b[1;32m   1343\u001b[0m         return self._retryable_read(\n",
      "\u001b[0;32m/Applications/anaconda3/lib/python3.7/site-packages/pymongo/server.py\u001b[0m in \u001b[0;36mrun_operation_with_response\u001b[0;34m(self, sock_info, operation, set_slave_okay, listeners, exhaust, unpack_res)\u001b[0m\n\u001b[1;32m    115\u001b[0m             \u001b[0;32mif\u001b[0m \u001b[0msend_message\u001b[0m\u001b[0;34m:\u001b[0m\u001b[0;34m\u001b[0m\u001b[0m\n\u001b[1;32m    116\u001b[0m                 \u001b[0msock_info\u001b[0m\u001b[0;34m.\u001b[0m\u001b[0msend_message\u001b[0m\u001b[0;34m(\u001b[0m\u001b[0mdata\u001b[0m\u001b[0;34m,\u001b[0m \u001b[0mmax_doc_size\u001b[0m\u001b[0;34m)\u001b[0m\u001b[0;34m\u001b[0m\u001b[0m\n\u001b[0;32m--> 117\u001b[0;31m                 \u001b[0mreply\u001b[0m \u001b[0;34m=\u001b[0m \u001b[0msock_info\u001b[0m\u001b[0;34m.\u001b[0m\u001b[0mreceive_message\u001b[0m\u001b[0;34m(\u001b[0m\u001b[0mrequest_id\u001b[0m\u001b[0;34m)\u001b[0m\u001b[0;34m\u001b[0m\u001b[0m\n\u001b[0m\u001b[1;32m    118\u001b[0m             \u001b[0;32melse\u001b[0m\u001b[0;34m:\u001b[0m\u001b[0;34m\u001b[0m\u001b[0m\n\u001b[1;32m    119\u001b[0m                 \u001b[0mreply\u001b[0m \u001b[0;34m=\u001b[0m \u001b[0msock_info\u001b[0m\u001b[0;34m.\u001b[0m\u001b[0mreceive_message\u001b[0m\u001b[0;34m(\u001b[0m\u001b[0;32mNone\u001b[0m\u001b[0;34m)\u001b[0m\u001b[0;34m\u001b[0m\u001b[0m\n",
      "\u001b[0;32m/Applications/anaconda3/lib/python3.7/site-packages/pymongo/pool.py\u001b[0m in \u001b[0;36mreceive_message\u001b[0;34m(self, request_id)\u001b[0m\n\u001b[1;32m    644\u001b[0m                                    self.max_message_size)\n\u001b[1;32m    645\u001b[0m         \u001b[0;32mexcept\u001b[0m \u001b[0mBaseException\u001b[0m \u001b[0;32mas\u001b[0m \u001b[0merror\u001b[0m\u001b[0;34m:\u001b[0m\u001b[0;34m\u001b[0m\u001b[0m\n\u001b[0;32m--> 646\u001b[0;31m             \u001b[0mself\u001b[0m\u001b[0;34m.\u001b[0m\u001b[0m_raise_connection_failure\u001b[0m\u001b[0;34m(\u001b[0m\u001b[0merror\u001b[0m\u001b[0;34m)\u001b[0m\u001b[0;34m\u001b[0m\u001b[0m\n\u001b[0m\u001b[1;32m    647\u001b[0m \u001b[0;34m\u001b[0m\u001b[0m\n\u001b[1;32m    648\u001b[0m     \u001b[0;32mdef\u001b[0m \u001b[0m_raise_if_not_writable\u001b[0m\u001b[0;34m(\u001b[0m\u001b[0mself\u001b[0m\u001b[0;34m,\u001b[0m \u001b[0munacknowledged\u001b[0m\u001b[0;34m)\u001b[0m\u001b[0;34m:\u001b[0m\u001b[0;34m\u001b[0m\u001b[0m\n",
      "\u001b[0;32m/Applications/anaconda3/lib/python3.7/site-packages/pymongo/pool.py\u001b[0m in \u001b[0;36mreceive_message\u001b[0;34m(self, request_id)\u001b[0m\n\u001b[1;32m    642\u001b[0m         \u001b[0;32mtry\u001b[0m\u001b[0;34m:\u001b[0m\u001b[0;34m\u001b[0m\u001b[0m\n\u001b[1;32m    643\u001b[0m             return receive_message(self.sock, request_id,\n\u001b[0;32m--> 644\u001b[0;31m                                    self.max_message_size)\n\u001b[0m\u001b[1;32m    645\u001b[0m         \u001b[0;32mexcept\u001b[0m \u001b[0mBaseException\u001b[0m \u001b[0;32mas\u001b[0m \u001b[0merror\u001b[0m\u001b[0;34m:\u001b[0m\u001b[0;34m\u001b[0m\u001b[0m\n\u001b[1;32m    646\u001b[0m             \u001b[0mself\u001b[0m\u001b[0;34m.\u001b[0m\u001b[0m_raise_connection_failure\u001b[0m\u001b[0;34m(\u001b[0m\u001b[0merror\u001b[0m\u001b[0;34m)\u001b[0m\u001b[0;34m\u001b[0m\u001b[0m\n",
      "\u001b[0;32m/Applications/anaconda3/lib/python3.7/site-packages/pymongo/network.py\u001b[0m in \u001b[0;36mreceive_message\u001b[0;34m(sock, request_id, max_message_size)\u001b[0m\n\u001b[1;32m    212\u001b[0m             _receive_data_on_socket(sock, length - 25), compressor_id)\n\u001b[1;32m    213\u001b[0m     \u001b[0;32melse\u001b[0m\u001b[0;34m:\u001b[0m\u001b[0;34m\u001b[0m\u001b[0m\n\u001b[0;32m--> 214\u001b[0;31m         \u001b[0mdata\u001b[0m \u001b[0;34m=\u001b[0m \u001b[0m_receive_data_on_socket\u001b[0m\u001b[0;34m(\u001b[0m\u001b[0msock\u001b[0m\u001b[0;34m,\u001b[0m \u001b[0mlength\u001b[0m \u001b[0;34m-\u001b[0m \u001b[0;36m16\u001b[0m\u001b[0;34m)\u001b[0m\u001b[0;34m\u001b[0m\u001b[0m\n\u001b[0m\u001b[1;32m    215\u001b[0m \u001b[0;34m\u001b[0m\u001b[0m\n\u001b[1;32m    216\u001b[0m     \u001b[0;32mtry\u001b[0m\u001b[0;34m:\u001b[0m\u001b[0;34m\u001b[0m\u001b[0m\n",
      "\u001b[0;32m/Applications/anaconda3/lib/python3.7/site-packages/pymongo/network.py\u001b[0m in \u001b[0;36m_receive_data_on_socket\u001b[0;34m(sock, length)\u001b[0m\n\u001b[1;32m    253\u001b[0m         \u001b[0;32mwhile\u001b[0m \u001b[0mbytes_read\u001b[0m \u001b[0;34m<\u001b[0m \u001b[0mlength\u001b[0m\u001b[0;34m:\u001b[0m\u001b[0;34m\u001b[0m\u001b[0m\n\u001b[1;32m    254\u001b[0m             \u001b[0;32mtry\u001b[0m\u001b[0;34m:\u001b[0m\u001b[0;34m\u001b[0m\u001b[0m\n\u001b[0;32m--> 255\u001b[0;31m                 \u001b[0mchunk_length\u001b[0m \u001b[0;34m=\u001b[0m \u001b[0msock\u001b[0m\u001b[0;34m.\u001b[0m\u001b[0mrecv_into\u001b[0m\u001b[0;34m(\u001b[0m\u001b[0mmv\u001b[0m\u001b[0;34m[\u001b[0m\u001b[0mbytes_read\u001b[0m\u001b[0;34m:\u001b[0m\u001b[0;34m]\u001b[0m\u001b[0;34m)\u001b[0m\u001b[0;34m\u001b[0m\u001b[0m\n\u001b[0m\u001b[1;32m    256\u001b[0m             \u001b[0;32mexcept\u001b[0m \u001b[0;34m(\u001b[0m\u001b[0mIOError\u001b[0m\u001b[0;34m,\u001b[0m \u001b[0mOSError\u001b[0m\u001b[0;34m)\u001b[0m \u001b[0;32mas\u001b[0m \u001b[0mexc\u001b[0m\u001b[0;34m:\u001b[0m\u001b[0;34m\u001b[0m\u001b[0m\n\u001b[1;32m    257\u001b[0m                 \u001b[0;32mif\u001b[0m \u001b[0m_errno_from_exception\u001b[0m\u001b[0;34m(\u001b[0m\u001b[0mexc\u001b[0m\u001b[0;34m)\u001b[0m \u001b[0;34m==\u001b[0m \u001b[0merrno\u001b[0m\u001b[0;34m.\u001b[0m\u001b[0mEINTR\u001b[0m\u001b[0;34m:\u001b[0m\u001b[0;34m\u001b[0m\u001b[0m\n",
      "\u001b[0;31mKeyboardInterrupt\u001b[0m: "
     ]
    }
   ],
   "source": [
    "filtered_comp = comprehensive.find(query)\n",
    "\n",
    "# dataset_size = 9999\n",
    "# break_pt = 0\n",
    "with open('cleaned_data.txt', 'a') as file:\n",
    "    for i in filtered_comp:\n",
    "    #     print(i)\n",
    "        k, l = map_func(i)\n",
    "        if (k != None) and (l != None):\n",
    "            key = ','.join(k)\n",
    "            to_write = key + ',' + str(l) + '\\n'\n",
    "            file.write(to_write)\n",
    "#     if break_pt == dataset_size:\n",
    "#         break\n",
    "#     break_pt += 1\n"
   ]
  },
  {
   "cell_type": "markdown",
   "metadata": {},
   "source": [
    "# 3. Building Model (borrow from XW)"
   ]
  },
  {
   "cell_type": "code",
   "execution_count": 208,
   "metadata": {},
   "outputs": [],
   "source": [
    "import pandas as pd\n",
    "import numpy as np\n",
    "\n",
    "from sklearn.model_selection import train_test_split\n",
    "from sklearn.feature_extraction.text import TfidfVectorizer\n",
    "from sklearn.linear_model import LogisticRegression\n",
    "from sklearn.metrics import confusion_matrix\n"
   ]
  },
  {
   "cell_type": "code",
   "execution_count": 279,
   "metadata": {},
   "outputs": [],
   "source": [
    "def build_corpus(fp = 'cleaned_data.txt'):\n",
    "    out_corpus = []\n",
    "    out_labels = []\n",
    "    with open(fp, 'r') as file:\n",
    "        for i in file:\n",
    "            feat, lab = i[:-2], i[-2]\n",
    "            out_corpus.append(feat)\n",
    "            out_labels.append(lab)\n",
    "    return out_corpus, out_labels"
   ]
  },
  {
   "cell_type": "code",
   "execution_count": 280,
   "metadata": {
    "scrolled": false
   },
   "outputs": [
    {
     "name": "stdout",
     "output_type": "stream",
     "text": [
      "39407\n"
     ]
    }
   ],
   "source": [
    "corpus,labels = build_corpus()\n",
    "print(len(corpus))\n",
    "corpus_train, corpus_test, y_train, y_test = train_test_split(corpus, labels, test_size = 0.2, random_state = 0)"
   ]
  },
  {
   "cell_type": "code",
   "execution_count": 325,
   "metadata": {
    "scrolled": true
   },
   "outputs": [
    {
     "name": "stderr",
     "output_type": "stream",
     "text": [
      "/Applications/anaconda3/lib/python3.7/site-packages/sklearn/linear_model/logistic.py:433: FutureWarning: Default solver will be changed to 'lbfgs' in 0.22. Specify a solver to silence this warning.\n",
      "  FutureWarning)\n"
     ]
    }
   ],
   "source": [
    "vectorizer = TfidfVectorizer()\n",
    "\n",
    "X_train = vectorizer.fit_transform(corpus_train)\n",
    "X_test = vectorizer.transform(corpus_test)\n",
    "\n",
    "clf = LogisticRegression(max_iter = 1500, C = 2).fit(X_train, y_train)"
   ]
  },
  {
   "cell_type": "code",
   "execution_count": 326,
   "metadata": {},
   "outputs": [
    {
     "data": {
      "text/plain": [
       "0.7840444091990484"
      ]
     },
     "execution_count": 326,
     "metadata": {},
     "output_type": "execute_result"
    }
   ],
   "source": [
    "clf.score(X_train,y_train)"
   ]
  },
  {
   "cell_type": "code",
   "execution_count": 327,
   "metadata": {},
   "outputs": [
    {
     "data": {
      "text/plain": [
       "0.6787617356001014"
      ]
     },
     "execution_count": 327,
     "metadata": {},
     "output_type": "execute_result"
    }
   ],
   "source": [
    "clf.score(X_test, y_test)"
   ]
  },
  {
   "cell_type": "code",
   "execution_count": 328,
   "metadata": {},
   "outputs": [],
   "source": [
    "tn, fp, fn, tp = confusion_matrix(y_test, clf.predict(X_test)).ravel()\n",
    "\n",
    "precision = tp / (tp + fp)\n",
    "recall = tp / (tp + fn)\n",
    "TNR = tn / (tn + fp)\n",
    "NPV = tn / (tn + fn)"
   ]
  },
  {
   "cell_type": "code",
   "execution_count": 329,
   "metadata": {},
   "outputs": [
    {
     "data": {
      "text/plain": [
       "(0.7131817506315946,\n",
       " 0.8885391594149231,\n",
       " 0.22208786779524387,\n",
       " 0.4778837814397225)"
      ]
     },
     "execution_count": 329,
     "metadata": {},
     "output_type": "execute_result"
    }
   ],
   "source": [
    "precision,recall, TNR, NPV"
   ]
  },
  {
   "cell_type": "code",
   "execution_count": 330,
   "metadata": {},
   "outputs": [
    {
     "data": {
      "text/plain": [
       "array([0.06990612, 0.24486171, 0.07637655, 0.60885562])"
      ]
     },
     "execution_count": 330,
     "metadata": {},
     "output_type": "execute_result"
    }
   ],
   "source": [
    "np.array([tn, fp, fn, tp]) / 7882"
   ]
  },
  {
   "cell_type": "code",
   "execution_count": 331,
   "metadata": {},
   "outputs": [
    {
     "data": {
      "text/plain": [
       "0.685232174574981"
      ]
     },
     "execution_count": 331,
     "metadata": {},
     "output_type": "execute_result"
    }
   ],
   "source": [
    "np.mean(np.array(y_test) == '1')"
   ]
  },
  {
   "cell_type": "code",
   "execution_count": 332,
   "metadata": {},
   "outputs": [
    {
     "data": {
      "text/plain": [
       "0.314767825425019"
      ]
     },
     "execution_count": 332,
     "metadata": {},
     "output_type": "execute_result"
    }
   ],
   "source": [
    "np.mean(np.array(y_test) == '0')"
   ]
  },
  {
   "cell_type": "code",
   "execution_count": 333,
   "metadata": {},
   "outputs": [],
   "source": [
    "pred_y = clf.predict(X_test)"
   ]
  },
  {
   "cell_type": "code",
   "execution_count": 334,
   "metadata": {},
   "outputs": [
    {
     "data": {
      "text/plain": [
       "0.8537173306267445"
      ]
     },
     "execution_count": 334,
     "metadata": {},
     "output_type": "execute_result"
    }
   ],
   "source": [
    "np.mean(np.array(pred_y) == '1')"
   ]
  },
  {
   "cell_type": "code",
   "execution_count": 335,
   "metadata": {},
   "outputs": [
    {
     "data": {
      "text/plain": [
       "0.14628266937325551"
      ]
     },
     "execution_count": 335,
     "metadata": {},
     "output_type": "execute_result"
    }
   ],
   "source": [
    "np.mean(np.array(pred_y) == '0')"
   ]
  },
  {
   "cell_type": "code",
   "execution_count": null,
   "metadata": {},
   "outputs": [],
   "source": []
  }
 ],
 "metadata": {
  "kernelspec": {
   "display_name": "Python 3",
   "language": "python",
   "name": "python3"
  },
  "language_info": {
   "codemirror_mode": {
    "name": "ipython",
    "version": 3
   },
   "file_extension": ".py",
   "mimetype": "text/x-python",
   "name": "python",
   "nbconvert_exporter": "python",
   "pygments_lexer": "ipython3",
   "version": "3.7.0"
  }
 },
 "nbformat": 4,
 "nbformat_minor": 2
}
